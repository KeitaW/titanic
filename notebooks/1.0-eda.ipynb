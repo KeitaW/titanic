{
 "cells": [
  {
   "cell_type": "markdown",
   "metadata": {},
   "source": [
    "https://www.kaggle.com/c/titanic/data"
   ]
  },
  {
   "cell_type": "markdown",
   "metadata": {},
   "source": [
    "# Objective\n",
    "This competition requires to perform binary prediction task. Model needs to predict each passenger's fate (eather survived: 1 or not: 0)."
   ]
  },
  {
   "cell_type": "markdown",
   "metadata": {},
   "source": [
    "## Scoring Metric"
   ]
  },
  {
   "cell_type": "code",
   "execution_count": 59,
   "metadata": {},
   "outputs": [
    {
     "data": {
      "text/html": [
       "<style>.container { width:100% !important; }</style>"
      ],
      "text/plain": [
       "<IPython.core.display.HTML object>"
      ]
     },
     "metadata": {},
     "output_type": "display_data"
    }
   ],
   "source": [
    "from IPython.core.display import display, HTML \n",
    "display(HTML(\"<style>.container { width:100% !important; }</style>\"))\n",
    "from IPython.core.interactiveshell import InteractiveShell\n",
    "InteractiveShell.ast_node_interactivity = 'all'\n",
    "import pandas as pd\n",
    "import numpy as np\n",
    "import matplotlib.pyplot as plt\n",
    "import seaborn as sns\n",
    "sns.set()\n",
    "%matplotlib inline"
   ]
  },
  {
   "cell_type": "code",
   "execution_count": 2,
   "metadata": {
    "collapsed": true
   },
   "outputs": [],
   "source": [
    "train_df = pd.read_csv(\"../data/raw/train.csv\")\n",
    "test_df = pd.read_csv(\"../data/raw/test.csv\")"
   ]
  },
  {
   "cell_type": "code",
   "execution_count": 3,
   "metadata": {},
   "outputs": [
    {
     "data": {
      "text/html": [
       "<div>\n",
       "<style scoped>\n",
       "    .dataframe tbody tr th:only-of-type {\n",
       "        vertical-align: middle;\n",
       "    }\n",
       "\n",
       "    .dataframe tbody tr th {\n",
       "        vertical-align: top;\n",
       "    }\n",
       "\n",
       "    .dataframe thead th {\n",
       "        text-align: right;\n",
       "    }\n",
       "</style>\n",
       "<table border=\"1\" class=\"dataframe\">\n",
       "  <thead>\n",
       "    <tr style=\"text-align: right;\">\n",
       "      <th></th>\n",
       "      <th>PassengerId</th>\n",
       "      <th>Survived</th>\n",
       "      <th>Pclass</th>\n",
       "      <th>Name</th>\n",
       "      <th>Sex</th>\n",
       "      <th>Age</th>\n",
       "      <th>SibSp</th>\n",
       "      <th>Parch</th>\n",
       "      <th>Ticket</th>\n",
       "      <th>Fare</th>\n",
       "      <th>Cabin</th>\n",
       "      <th>Embarked</th>\n",
       "    </tr>\n",
       "  </thead>\n",
       "  <tbody>\n",
       "    <tr>\n",
       "      <th>0</th>\n",
       "      <td>1</td>\n",
       "      <td>0</td>\n",
       "      <td>3</td>\n",
       "      <td>Braund, Mr. Owen Harris</td>\n",
       "      <td>male</td>\n",
       "      <td>22.0</td>\n",
       "      <td>1</td>\n",
       "      <td>0</td>\n",
       "      <td>A/5 21171</td>\n",
       "      <td>7.2500</td>\n",
       "      <td>NaN</td>\n",
       "      <td>S</td>\n",
       "    </tr>\n",
       "    <tr>\n",
       "      <th>1</th>\n",
       "      <td>2</td>\n",
       "      <td>1</td>\n",
       "      <td>1</td>\n",
       "      <td>Cumings, Mrs. John Bradley (Florence Briggs Th...</td>\n",
       "      <td>female</td>\n",
       "      <td>38.0</td>\n",
       "      <td>1</td>\n",
       "      <td>0</td>\n",
       "      <td>PC 17599</td>\n",
       "      <td>71.2833</td>\n",
       "      <td>C85</td>\n",
       "      <td>C</td>\n",
       "    </tr>\n",
       "    <tr>\n",
       "      <th>2</th>\n",
       "      <td>3</td>\n",
       "      <td>1</td>\n",
       "      <td>3</td>\n",
       "      <td>Heikkinen, Miss. Laina</td>\n",
       "      <td>female</td>\n",
       "      <td>26.0</td>\n",
       "      <td>0</td>\n",
       "      <td>0</td>\n",
       "      <td>STON/O2. 3101282</td>\n",
       "      <td>7.9250</td>\n",
       "      <td>NaN</td>\n",
       "      <td>S</td>\n",
       "    </tr>\n",
       "    <tr>\n",
       "      <th>3</th>\n",
       "      <td>4</td>\n",
       "      <td>1</td>\n",
       "      <td>1</td>\n",
       "      <td>Futrelle, Mrs. Jacques Heath (Lily May Peel)</td>\n",
       "      <td>female</td>\n",
       "      <td>35.0</td>\n",
       "      <td>1</td>\n",
       "      <td>0</td>\n",
       "      <td>113803</td>\n",
       "      <td>53.1000</td>\n",
       "      <td>C123</td>\n",
       "      <td>S</td>\n",
       "    </tr>\n",
       "    <tr>\n",
       "      <th>4</th>\n",
       "      <td>5</td>\n",
       "      <td>0</td>\n",
       "      <td>3</td>\n",
       "      <td>Allen, Mr. William Henry</td>\n",
       "      <td>male</td>\n",
       "      <td>35.0</td>\n",
       "      <td>0</td>\n",
       "      <td>0</td>\n",
       "      <td>373450</td>\n",
       "      <td>8.0500</td>\n",
       "      <td>NaN</td>\n",
       "      <td>S</td>\n",
       "    </tr>\n",
       "  </tbody>\n",
       "</table>\n",
       "</div>"
      ],
      "text/plain": [
       "   PassengerId  Survived  Pclass  \\\n",
       "0            1         0       3   \n",
       "1            2         1       1   \n",
       "2            3         1       3   \n",
       "3            4         1       1   \n",
       "4            5         0       3   \n",
       "\n",
       "                                                Name     Sex   Age  SibSp  \\\n",
       "0                            Braund, Mr. Owen Harris    male  22.0      1   \n",
       "1  Cumings, Mrs. John Bradley (Florence Briggs Th...  female  38.0      1   \n",
       "2                             Heikkinen, Miss. Laina  female  26.0      0   \n",
       "3       Futrelle, Mrs. Jacques Heath (Lily May Peel)  female  35.0      1   \n",
       "4                           Allen, Mr. William Henry    male  35.0      0   \n",
       "\n",
       "   Parch            Ticket     Fare Cabin Embarked  \n",
       "0      0         A/5 21171   7.2500   NaN        S  \n",
       "1      0          PC 17599  71.2833   C85        C  \n",
       "2      0  STON/O2. 3101282   7.9250   NaN        S  \n",
       "3      0            113803  53.1000  C123        S  \n",
       "4      0            373450   8.0500   NaN        S  "
      ]
     },
     "execution_count": 3,
     "metadata": {},
     "output_type": "execute_result"
    }
   ],
   "source": [
    "train_df.head()"
   ]
  },
  {
   "cell_type": "code",
   "execution_count": 4,
   "metadata": {},
   "outputs": [
    {
     "data": {
      "text/plain": [
       "PassengerId      0\n",
       "Survived         0\n",
       "Pclass           0\n",
       "Name             0\n",
       "Sex              0\n",
       "Age            177\n",
       "SibSp            0\n",
       "Parch            0\n",
       "Ticket           0\n",
       "Fare             0\n",
       "Cabin          687\n",
       "Embarked         2\n",
       "dtype: int64"
      ]
     },
     "execution_count": 4,
     "metadata": {},
     "output_type": "execute_result"
    }
   ],
   "source": [
    "train_df.isnull().sum()"
   ]
  },
  {
   "cell_type": "code",
   "execution_count": 5,
   "metadata": {},
   "outputs": [
    {
     "data": {
      "text/plain": [
       "PassengerId      0\n",
       "Pclass           0\n",
       "Name             0\n",
       "Sex              0\n",
       "Age             86\n",
       "SibSp            0\n",
       "Parch            0\n",
       "Ticket           0\n",
       "Fare             1\n",
       "Cabin          327\n",
       "Embarked         0\n",
       "dtype: int64"
      ]
     },
     "execution_count": 5,
     "metadata": {},
     "output_type": "execute_result"
    }
   ],
   "source": [
    "test_df.isnull().sum()"
   ]
  },
  {
   "cell_type": "code",
   "execution_count": 6,
   "metadata": {},
   "outputs": [
    {
     "name": "stdout",
     "output_type": "stream",
     "text": [
      "Training data has 891 entries.\n",
      "Test data has 418 entries.\n"
     ]
    }
   ],
   "source": [
    "print(\"Training data has {} entries.\".format(len(train_df)))\n",
    "print(\"Test data has {} entries.\".format(len(test_df)))"
   ]
  },
  {
   "cell_type": "markdown",
   "metadata": {},
   "source": [
    "Below EDA codes are mostly taken from https://www.kaggle.com/dejavu23/titanic-eda-to-ml-beginner "
   ]
  },
  {
   "cell_type": "code",
   "execution_count": 7,
   "metadata": {},
   "outputs": [
    {
     "name": "stdout",
     "output_type": "stream",
     "text": [
      "<class 'pandas.core.frame.DataFrame'>\n",
      "RangeIndex: 891 entries, 0 to 890\n",
      "Data columns (total 12 columns):\n",
      "PassengerId    891 non-null int64\n",
      "Survived       891 non-null int64\n",
      "Pclass         891 non-null int64\n",
      "Name           891 non-null object\n",
      "Sex            891 non-null object\n",
      "Age            714 non-null float64\n",
      "SibSp          891 non-null int64\n",
      "Parch          891 non-null int64\n",
      "Ticket         891 non-null object\n",
      "Fare           891 non-null float64\n",
      "Cabin          204 non-null object\n",
      "Embarked       889 non-null object\n",
      "dtypes: float64(2), int64(5), object(5)\n",
      "memory usage: 83.6+ KB\n",
      "\n",
      "<class 'pandas.core.frame.DataFrame'>\n",
      "RangeIndex: 418 entries, 0 to 417\n",
      "Data columns (total 11 columns):\n",
      "PassengerId    418 non-null int64\n",
      "Pclass         418 non-null int64\n",
      "Name           418 non-null object\n",
      "Sex            418 non-null object\n",
      "Age            332 non-null float64\n",
      "SibSp          418 non-null int64\n",
      "Parch          418 non-null int64\n",
      "Ticket         418 non-null object\n",
      "Fare           417 non-null float64\n",
      "Cabin          91 non-null object\n",
      "Embarked       418 non-null object\n",
      "dtypes: float64(2), int64(4), object(5)\n",
      "memory usage: 36.0+ KB\n"
     ]
    }
   ],
   "source": [
    "train_df.info()\n",
    "print()\n",
    "test_df.info()"
   ]
  },
  {
   "cell_type": "code",
   "execution_count": 8,
   "metadata": {},
   "outputs": [
    {
     "data": {
      "text/html": [
       "<div>\n",
       "<style scoped>\n",
       "    .dataframe tbody tr th:only-of-type {\n",
       "        vertical-align: middle;\n",
       "    }\n",
       "\n",
       "    .dataframe tbody tr th {\n",
       "        vertical-align: top;\n",
       "    }\n",
       "\n",
       "    .dataframe thead th {\n",
       "        text-align: right;\n",
       "    }\n",
       "</style>\n",
       "<table border=\"1\" class=\"dataframe\">\n",
       "  <thead>\n",
       "    <tr style=\"text-align: right;\">\n",
       "      <th></th>\n",
       "      <th>PassengerId</th>\n",
       "      <th>Survived</th>\n",
       "      <th>Pclass</th>\n",
       "      <th>Age</th>\n",
       "      <th>SibSp</th>\n",
       "      <th>Parch</th>\n",
       "      <th>Fare</th>\n",
       "    </tr>\n",
       "  </thead>\n",
       "  <tbody>\n",
       "    <tr>\n",
       "      <th>count</th>\n",
       "      <td>891.000000</td>\n",
       "      <td>891.000000</td>\n",
       "      <td>891.000000</td>\n",
       "      <td>714.000000</td>\n",
       "      <td>891.000000</td>\n",
       "      <td>891.000000</td>\n",
       "      <td>891.000000</td>\n",
       "    </tr>\n",
       "    <tr>\n",
       "      <th>mean</th>\n",
       "      <td>446.000000</td>\n",
       "      <td>0.383838</td>\n",
       "      <td>2.308642</td>\n",
       "      <td>29.699118</td>\n",
       "      <td>0.523008</td>\n",
       "      <td>0.381594</td>\n",
       "      <td>32.204208</td>\n",
       "    </tr>\n",
       "    <tr>\n",
       "      <th>std</th>\n",
       "      <td>257.353842</td>\n",
       "      <td>0.486592</td>\n",
       "      <td>0.836071</td>\n",
       "      <td>14.526497</td>\n",
       "      <td>1.102743</td>\n",
       "      <td>0.806057</td>\n",
       "      <td>49.693429</td>\n",
       "    </tr>\n",
       "    <tr>\n",
       "      <th>min</th>\n",
       "      <td>1.000000</td>\n",
       "      <td>0.000000</td>\n",
       "      <td>1.000000</td>\n",
       "      <td>0.420000</td>\n",
       "      <td>0.000000</td>\n",
       "      <td>0.000000</td>\n",
       "      <td>0.000000</td>\n",
       "    </tr>\n",
       "    <tr>\n",
       "      <th>25%</th>\n",
       "      <td>223.500000</td>\n",
       "      <td>0.000000</td>\n",
       "      <td>2.000000</td>\n",
       "      <td>20.125000</td>\n",
       "      <td>0.000000</td>\n",
       "      <td>0.000000</td>\n",
       "      <td>7.910400</td>\n",
       "    </tr>\n",
       "    <tr>\n",
       "      <th>50%</th>\n",
       "      <td>446.000000</td>\n",
       "      <td>0.000000</td>\n",
       "      <td>3.000000</td>\n",
       "      <td>28.000000</td>\n",
       "      <td>0.000000</td>\n",
       "      <td>0.000000</td>\n",
       "      <td>14.454200</td>\n",
       "    </tr>\n",
       "    <tr>\n",
       "      <th>75%</th>\n",
       "      <td>668.500000</td>\n",
       "      <td>1.000000</td>\n",
       "      <td>3.000000</td>\n",
       "      <td>38.000000</td>\n",
       "      <td>1.000000</td>\n",
       "      <td>0.000000</td>\n",
       "      <td>31.000000</td>\n",
       "    </tr>\n",
       "    <tr>\n",
       "      <th>max</th>\n",
       "      <td>891.000000</td>\n",
       "      <td>1.000000</td>\n",
       "      <td>3.000000</td>\n",
       "      <td>80.000000</td>\n",
       "      <td>8.000000</td>\n",
       "      <td>6.000000</td>\n",
       "      <td>512.329200</td>\n",
       "    </tr>\n",
       "  </tbody>\n",
       "</table>\n",
       "</div>"
      ],
      "text/plain": [
       "       PassengerId    Survived      Pclass         Age       SibSp  \\\n",
       "count   891.000000  891.000000  891.000000  714.000000  891.000000   \n",
       "mean    446.000000    0.383838    2.308642   29.699118    0.523008   \n",
       "std     257.353842    0.486592    0.836071   14.526497    1.102743   \n",
       "min       1.000000    0.000000    1.000000    0.420000    0.000000   \n",
       "25%     223.500000    0.000000    2.000000   20.125000    0.000000   \n",
       "50%     446.000000    0.000000    3.000000   28.000000    0.000000   \n",
       "75%     668.500000    1.000000    3.000000   38.000000    1.000000   \n",
       "max     891.000000    1.000000    3.000000   80.000000    8.000000   \n",
       "\n",
       "            Parch        Fare  \n",
       "count  891.000000  891.000000  \n",
       "mean     0.381594   32.204208  \n",
       "std      0.806057   49.693429  \n",
       "min      0.000000    0.000000  \n",
       "25%      0.000000    7.910400  \n",
       "50%      0.000000   14.454200  \n",
       "75%      0.000000   31.000000  \n",
       "max      6.000000  512.329200  "
      ]
     },
     "execution_count": 8,
     "metadata": {},
     "output_type": "execute_result"
    }
   ],
   "source": [
    "train_df.describe()"
   ]
  },
  {
   "cell_type": "code",
   "execution_count": 9,
   "metadata": {},
   "outputs": [
    {
     "data": {
      "text/html": [
       "<div>\n",
       "<style scoped>\n",
       "    .dataframe tbody tr th:only-of-type {\n",
       "        vertical-align: middle;\n",
       "    }\n",
       "\n",
       "    .dataframe tbody tr th {\n",
       "        vertical-align: top;\n",
       "    }\n",
       "\n",
       "    .dataframe thead th {\n",
       "        text-align: right;\n",
       "    }\n",
       "</style>\n",
       "<table border=\"1\" class=\"dataframe\">\n",
       "  <thead>\n",
       "    <tr style=\"text-align: right;\">\n",
       "      <th></th>\n",
       "      <th>PassengerId</th>\n",
       "      <th>Pclass</th>\n",
       "      <th>Age</th>\n",
       "      <th>SibSp</th>\n",
       "      <th>Parch</th>\n",
       "      <th>Fare</th>\n",
       "    </tr>\n",
       "  </thead>\n",
       "  <tbody>\n",
       "    <tr>\n",
       "      <th>count</th>\n",
       "      <td>418.000000</td>\n",
       "      <td>418.000000</td>\n",
       "      <td>332.000000</td>\n",
       "      <td>418.000000</td>\n",
       "      <td>418.000000</td>\n",
       "      <td>417.000000</td>\n",
       "    </tr>\n",
       "    <tr>\n",
       "      <th>mean</th>\n",
       "      <td>1100.500000</td>\n",
       "      <td>2.265550</td>\n",
       "      <td>30.272590</td>\n",
       "      <td>0.447368</td>\n",
       "      <td>0.392344</td>\n",
       "      <td>35.627188</td>\n",
       "    </tr>\n",
       "    <tr>\n",
       "      <th>std</th>\n",
       "      <td>120.810458</td>\n",
       "      <td>0.841838</td>\n",
       "      <td>14.181209</td>\n",
       "      <td>0.896760</td>\n",
       "      <td>0.981429</td>\n",
       "      <td>55.907576</td>\n",
       "    </tr>\n",
       "    <tr>\n",
       "      <th>min</th>\n",
       "      <td>892.000000</td>\n",
       "      <td>1.000000</td>\n",
       "      <td>0.170000</td>\n",
       "      <td>0.000000</td>\n",
       "      <td>0.000000</td>\n",
       "      <td>0.000000</td>\n",
       "    </tr>\n",
       "    <tr>\n",
       "      <th>25%</th>\n",
       "      <td>996.250000</td>\n",
       "      <td>1.000000</td>\n",
       "      <td>21.000000</td>\n",
       "      <td>0.000000</td>\n",
       "      <td>0.000000</td>\n",
       "      <td>7.895800</td>\n",
       "    </tr>\n",
       "    <tr>\n",
       "      <th>50%</th>\n",
       "      <td>1100.500000</td>\n",
       "      <td>3.000000</td>\n",
       "      <td>27.000000</td>\n",
       "      <td>0.000000</td>\n",
       "      <td>0.000000</td>\n",
       "      <td>14.454200</td>\n",
       "    </tr>\n",
       "    <tr>\n",
       "      <th>75%</th>\n",
       "      <td>1204.750000</td>\n",
       "      <td>3.000000</td>\n",
       "      <td>39.000000</td>\n",
       "      <td>1.000000</td>\n",
       "      <td>0.000000</td>\n",
       "      <td>31.500000</td>\n",
       "    </tr>\n",
       "    <tr>\n",
       "      <th>max</th>\n",
       "      <td>1309.000000</td>\n",
       "      <td>3.000000</td>\n",
       "      <td>76.000000</td>\n",
       "      <td>8.000000</td>\n",
       "      <td>9.000000</td>\n",
       "      <td>512.329200</td>\n",
       "    </tr>\n",
       "  </tbody>\n",
       "</table>\n",
       "</div>"
      ],
      "text/plain": [
       "       PassengerId      Pclass         Age       SibSp       Parch        Fare\n",
       "count   418.000000  418.000000  332.000000  418.000000  418.000000  417.000000\n",
       "mean   1100.500000    2.265550   30.272590    0.447368    0.392344   35.627188\n",
       "std     120.810458    0.841838   14.181209    0.896760    0.981429   55.907576\n",
       "min     892.000000    1.000000    0.170000    0.000000    0.000000    0.000000\n",
       "25%     996.250000    1.000000   21.000000    0.000000    0.000000    7.895800\n",
       "50%    1100.500000    3.000000   27.000000    0.000000    0.000000   14.454200\n",
       "75%    1204.750000    3.000000   39.000000    1.000000    0.000000   31.500000\n",
       "max    1309.000000    3.000000   76.000000    8.000000    9.000000  512.329200"
      ]
     },
     "execution_count": 9,
     "metadata": {},
     "output_type": "execute_result"
    }
   ],
   "source": [
    "test_df.describe()"
   ]
  },
  {
   "cell_type": "markdown",
   "metadata": {},
   "source": [
    "Comparing distribution of features in df_train and df_test, Pclass and Age seem very similar, distributions for SibSo, Parch and Fare only slightly different"
   ]
  },
  {
   "cell_type": "code",
   "execution_count": 10,
   "metadata": {},
   "outputs": [
    {
     "data": {
      "text/html": [
       "<div>\n",
       "<style scoped>\n",
       "    .dataframe tbody tr th:only-of-type {\n",
       "        vertical-align: middle;\n",
       "    }\n",
       "\n",
       "    .dataframe tbody tr th {\n",
       "        vertical-align: top;\n",
       "    }\n",
       "\n",
       "    .dataframe thead th {\n",
       "        text-align: right;\n",
       "    }\n",
       "</style>\n",
       "<table border=\"1\" class=\"dataframe\">\n",
       "  <thead>\n",
       "    <tr style=\"text-align: right;\">\n",
       "      <th></th>\n",
       "      <th>Age</th>\n",
       "      <th>Fare</th>\n",
       "      <th>Parch</th>\n",
       "      <th>PassengerId</th>\n",
       "      <th>Pclass</th>\n",
       "      <th>SibSp</th>\n",
       "      <th>Survived</th>\n",
       "    </tr>\n",
       "  </thead>\n",
       "  <tbody>\n",
       "    <tr>\n",
       "      <th>count</th>\n",
       "      <td>382.000000</td>\n",
       "      <td>474.000000</td>\n",
       "      <td>473.000000</td>\n",
       "      <td>473.000000</td>\n",
       "      <td>473.000000</td>\n",
       "      <td>473.000000</td>\n",
       "      <td>NaN</td>\n",
       "    </tr>\n",
       "    <tr>\n",
       "      <th>mean</th>\n",
       "      <td>-0.573473</td>\n",
       "      <td>-3.422981</td>\n",
       "      <td>-0.010751</td>\n",
       "      <td>-654.500000</td>\n",
       "      <td>0.043092</td>\n",
       "      <td>0.075639</td>\n",
       "      <td>NaN</td>\n",
       "    </tr>\n",
       "    <tr>\n",
       "      <th>std</th>\n",
       "      <td>0.345288</td>\n",
       "      <td>-6.214148</td>\n",
       "      <td>-0.175372</td>\n",
       "      <td>136.543384</td>\n",
       "      <td>-0.005766</td>\n",
       "      <td>0.205984</td>\n",
       "      <td>NaN</td>\n",
       "    </tr>\n",
       "    <tr>\n",
       "      <th>min</th>\n",
       "      <td>0.250000</td>\n",
       "      <td>0.000000</td>\n",
       "      <td>0.000000</td>\n",
       "      <td>-891.000000</td>\n",
       "      <td>0.000000</td>\n",
       "      <td>0.000000</td>\n",
       "      <td>NaN</td>\n",
       "    </tr>\n",
       "    <tr>\n",
       "      <th>25%</th>\n",
       "      <td>-0.875000</td>\n",
       "      <td>0.014600</td>\n",
       "      <td>0.000000</td>\n",
       "      <td>-772.750000</td>\n",
       "      <td>1.000000</td>\n",
       "      <td>0.000000</td>\n",
       "      <td>NaN</td>\n",
       "    </tr>\n",
       "    <tr>\n",
       "      <th>50%</th>\n",
       "      <td>1.000000</td>\n",
       "      <td>0.000000</td>\n",
       "      <td>0.000000</td>\n",
       "      <td>-654.500000</td>\n",
       "      <td>0.000000</td>\n",
       "      <td>0.000000</td>\n",
       "      <td>NaN</td>\n",
       "    </tr>\n",
       "    <tr>\n",
       "      <th>75%</th>\n",
       "      <td>-1.000000</td>\n",
       "      <td>-0.500000</td>\n",
       "      <td>0.000000</td>\n",
       "      <td>-536.250000</td>\n",
       "      <td>0.000000</td>\n",
       "      <td>0.000000</td>\n",
       "      <td>NaN</td>\n",
       "    </tr>\n",
       "    <tr>\n",
       "      <th>max</th>\n",
       "      <td>4.000000</td>\n",
       "      <td>0.000000</td>\n",
       "      <td>-3.000000</td>\n",
       "      <td>-418.000000</td>\n",
       "      <td>0.000000</td>\n",
       "      <td>0.000000</td>\n",
       "      <td>NaN</td>\n",
       "    </tr>\n",
       "  </tbody>\n",
       "</table>\n",
       "</div>"
      ],
      "text/plain": [
       "              Age        Fare       Parch  PassengerId      Pclass  \\\n",
       "count  382.000000  474.000000  473.000000   473.000000  473.000000   \n",
       "mean    -0.573473   -3.422981   -0.010751  -654.500000    0.043092   \n",
       "std      0.345288   -6.214148   -0.175372   136.543384   -0.005766   \n",
       "min      0.250000    0.000000    0.000000  -891.000000    0.000000   \n",
       "25%     -0.875000    0.014600    0.000000  -772.750000    1.000000   \n",
       "50%      1.000000    0.000000    0.000000  -654.500000    0.000000   \n",
       "75%     -1.000000   -0.500000    0.000000  -536.250000    0.000000   \n",
       "max      4.000000    0.000000   -3.000000  -418.000000    0.000000   \n",
       "\n",
       "            SibSp  Survived  \n",
       "count  473.000000       NaN  \n",
       "mean     0.075639       NaN  \n",
       "std      0.205984       NaN  \n",
       "min      0.000000       NaN  \n",
       "25%      0.000000       NaN  \n",
       "50%      0.000000       NaN  \n",
       "75%      0.000000       NaN  \n",
       "max      0.000000       NaN  "
      ]
     },
     "execution_count": 10,
     "metadata": {},
     "output_type": "execute_result"
    }
   ],
   "source": [
    "train_df.describe() - test_df.describe()"
   ]
  },
  {
   "cell_type": "markdown",
   "metadata": {},
   "source": [
    "Of all passengers in df_train, how many survived, how many died ?"
   ]
  },
  {
   "cell_type": "code",
   "execution_count": 11,
   "metadata": {},
   "outputs": [
    {
     "data": {
      "text/plain": [
       "<matplotlib.axes._subplots.AxesSubplot at 0x1046afa58>"
      ]
     },
     "execution_count": 11,
     "metadata": {},
     "output_type": "execute_result"
    },
    {
     "name": "stdout",
     "output_type": "stream",
     "text": [
      "0.3838383838383838\n"
     ]
    },
    {
     "data": {
      "image/png": "[encoded data removed]",
      "text/plain": [
       "<Figure size 432x288 with 1 Axes>"
      ]
     },
     "metadata": {},
     "output_type": "display_data"
    }
   ],
   "source": [
    "sns.countplot(x='Survived', data=train_df);\n",
    "print(train_df.Survived.sum()/train_df.Survived.count())"
   ]
  },
  {
   "cell_type": "markdown",
   "metadata": {},
   "source": [
    "more people died than survived (38% survived)\n",
    "\n",
    "-> base model : no survivors\n",
    "\n",
    "submission : 0.627 accuracy"
   ]
  },
  {
   "cell_type": "markdown",
   "metadata": {},
   "source": [
    "## Sex: Female more likely to survive than male"
   ]
  },
  {
   "cell_type": "code",
   "execution_count": 12,
   "metadata": {},
   "outputs": [
    {
     "data": {
      "text/plain": [
       "Survived  Sex   \n",
       "0         female     81\n",
       "          male      468\n",
       "1         female    233\n",
       "          male      109\n",
       "Name: Survived, dtype: int64"
      ]
     },
     "execution_count": 12,
     "metadata": {},
     "output_type": "execute_result"
    }
   ],
   "source": [
    "train_df.groupby(['Survived', 'Sex'])['Survived'].count()"
   ]
  },
  {
   "cell_type": "code",
   "execution_count": 13,
   "metadata": {},
   "outputs": [
    {
     "data": {
      "text/plain": [
       "<seaborn.axisgrid.FacetGrid at 0x1046afa20>"
      ]
     },
     "execution_count": 13,
     "metadata": {},
     "output_type": "execute_result"
    },
    {
     "data": {
      "image/png": "[encoded data removed]",
      "text/plain": [
       "<Figure size 720x360 with 2 Axes>"
      ]
     },
     "metadata": {},
     "output_type": "display_data"
    }
   ],
   "source": [
    "sns.catplot(x='Sex', col='Survived', kind='count', data=train_df)"
   ]
  },
  {
   "cell_type": "code",
   "execution_count": 39,
   "metadata": {},
   "outputs": [
    {
     "name": "stdout",
     "output_type": "stream",
     "text": [
      "% of women survived:  0.7420382165605095\n",
      "% of men survived:  0.18890814558058924\n"
     ]
    }
   ],
   "source": [
    "def percent_of_survival(cat, val):\n",
    "    return train_df[train_df[cat] == val].Survived.sum() \\\n",
    "            / train_df[train_df[cat] == val].Survived.count()\n",
    "print(\"% of women survived: \", percent_of_survival('Sex', 'female'))\n",
    "print(\"% of men survived: \", percent_of_survival('Sex', 'male'))"
   ]
  },
  {
   "cell_type": "code",
   "execution_count": 29,
   "metadata": {},
   "outputs": [
    {
     "data": {
      "image/png": "[encoded data removed]",
      "text/plain": [
       "<Figure size 1152x504 with 2 Axes>"
      ]
     },
     "metadata": {},
     "output_type": "display_data"
    }
   ],
   "source": [
    "fig, axes = plt.subplots(1, 2, figsize=(16, 7))\n",
    "axes[0].set_title(\"Survived (male)\")\n",
    "train_df['Survived'][train_df['Sex'] == 'male'].value_counts(\n",
    ").plot.pie(\n",
    "    explode=[0, 0.2], ax=axes[0], shadow=True, autopct='%1.1f%%'\n",
    ");\n",
    "axes[1].set_title(\"Survived(female)\")\n",
    "train_df['Survived'][train_df['Sex'] == 'female'].value_counts(\n",
    ").plot.pie(\n",
    "    explode=[0, 0.2], ax=axes[1], shadow=True, autopct='%1.1f%%'\n",
    ");"
   ]
  },
  {
   "cell_type": "markdown",
   "metadata": {},
   "source": [
    "Women were more likely to survive than men\n",
    "\n",
    "74 % of women survived but only 19% of men (in training set)\n",
    "\n",
    "-> second model : all women survived and all men died\n",
    "\n",
    "submission : 0.766 accuracy"
   ]
  },
  {
   "cell_type": "code",
   "execution_count": 30,
   "metadata": {},
   "outputs": [],
   "source": [
    "test_df['Survived'] = test_df.Sex == 'female'\n",
    "test_df['Survived'] = test_df.Survived.apply(lambda x: int(x))\n",
    "test_df[['PassengerId', 'Survived']].to_csv('women_survive.csv', index=False)"
   ]
  },
  {
   "cell_type": "markdown",
   "metadata": {},
   "source": [
    "## Passenger Class: Survival rate decreases with Pclass"
   ]
  },
  {
   "cell_type": "code",
   "execution_count": 35,
   "metadata": {},
   "outputs": [
    {
     "data": {
      "text/html": [
       "<style  type=\"text/css\" >\n",
       "    #T_2c47ddfa_4524_11e9_ba44_003ee1cddb00row0_col0 {\n",
       "            background-color:  #ffff00;\n",
       "        }    #T_2c47ddfa_4524_11e9_ba44_003ee1cddb00row0_col1 {\n",
       "            background-color:  #ffce00;\n",
       "        }    #T_2c47ddfa_4524_11e9_ba44_003ee1cddb00row0_col2 {\n",
       "            background-color:  #fff400;\n",
       "        }    #T_2c47ddfa_4524_11e9_ba44_003ee1cddb00row1_col0 {\n",
       "            background-color:  #fff600;\n",
       "        }    #T_2c47ddfa_4524_11e9_ba44_003ee1cddb00row1_col1 {\n",
       "            background-color:  #ffff00;\n",
       "        }    #T_2c47ddfa_4524_11e9_ba44_003ee1cddb00row1_col2 {\n",
       "            background-color:  #ffff00;\n",
       "        }    #T_2c47ddfa_4524_11e9_ba44_003ee1cddb00row2_col0 {\n",
       "            background-color:  #ff6000;\n",
       "        }    #T_2c47ddfa_4524_11e9_ba44_003ee1cddb00row2_col1 {\n",
       "            background-color:  #ffdf00;\n",
       "        }    #T_2c47ddfa_4524_11e9_ba44_003ee1cddb00row2_col2 {\n",
       "            background-color:  #ff9000;\n",
       "        }    #T_2c47ddfa_4524_11e9_ba44_003ee1cddb00row3_col0 {\n",
       "            background-color:  #ff0000;\n",
       "        }    #T_2c47ddfa_4524_11e9_ba44_003ee1cddb00row3_col1 {\n",
       "            background-color:  #ff0000;\n",
       "        }    #T_2c47ddfa_4524_11e9_ba44_003ee1cddb00row3_col2 {\n",
       "            background-color:  #ff0000;\n",
       "        }</style>  \n",
       "<table id=\"T_2c47ddfa_4524_11e9_ba44_003ee1cddb00\" > \n",
       "<thead>    <tr> \n",
       "        <th class=\"index_name level0\" >Survived</th> \n",
       "        <th class=\"col_heading level0 col0\" >0</th> \n",
       "        <th class=\"col_heading level0 col1\" >1</th> \n",
       "        <th class=\"col_heading level0 col2\" >All</th> \n",
       "    </tr>    <tr> \n",
       "        <th class=\"index_name level0\" >Pclass</th> \n",
       "        <th class=\"blank\" ></th> \n",
       "        <th class=\"blank\" ></th> \n",
       "        <th class=\"blank\" ></th> \n",
       "    </tr></thead> \n",
       "<tbody>    <tr> \n",
       "        <th id=\"T_2c47ddfa_4524_11e9_ba44_003ee1cddb00level0_row0\" class=\"row_heading level0 row0\" >1</th> \n",
       "        <td id=\"T_2c47ddfa_4524_11e9_ba44_003ee1cddb00row0_col0\" class=\"data row0 col0\" >80</td> \n",
       "        <td id=\"T_2c47ddfa_4524_11e9_ba44_003ee1cddb00row0_col1\" class=\"data row0 col1\" >136</td> \n",
       "        <td id=\"T_2c47ddfa_4524_11e9_ba44_003ee1cddb00row0_col2\" class=\"data row0 col2\" >216</td> \n",
       "    </tr>    <tr> \n",
       "        <th id=\"T_2c47ddfa_4524_11e9_ba44_003ee1cddb00level0_row1\" class=\"row_heading level0 row1\" >2</th> \n",
       "        <td id=\"T_2c47ddfa_4524_11e9_ba44_003ee1cddb00row1_col0\" class=\"data row1 col0\" >97</td> \n",
       "        <td id=\"T_2c47ddfa_4524_11e9_ba44_003ee1cddb00row1_col1\" class=\"data row1 col1\" >87</td> \n",
       "        <td id=\"T_2c47ddfa_4524_11e9_ba44_003ee1cddb00row1_col2\" class=\"data row1 col2\" >184</td> \n",
       "    </tr>    <tr> \n",
       "        <th id=\"T_2c47ddfa_4524_11e9_ba44_003ee1cddb00level0_row2\" class=\"row_heading level0 row2\" >3</th> \n",
       "        <td id=\"T_2c47ddfa_4524_11e9_ba44_003ee1cddb00row2_col0\" class=\"data row2 col0\" >372</td> \n",
       "        <td id=\"T_2c47ddfa_4524_11e9_ba44_003ee1cddb00row2_col1\" class=\"data row2 col1\" >119</td> \n",
       "        <td id=\"T_2c47ddfa_4524_11e9_ba44_003ee1cddb00row2_col2\" class=\"data row2 col2\" >491</td> \n",
       "    </tr>    <tr> \n",
       "        <th id=\"T_2c47ddfa_4524_11e9_ba44_003ee1cddb00level0_row3\" class=\"row_heading level0 row3\" >All</th> \n",
       "        <td id=\"T_2c47ddfa_4524_11e9_ba44_003ee1cddb00row3_col0\" class=\"data row3 col0\" >549</td> \n",
       "        <td id=\"T_2c47ddfa_4524_11e9_ba44_003ee1cddb00row3_col1\" class=\"data row3 col1\" >342</td> \n",
       "        <td id=\"T_2c47ddfa_4524_11e9_ba44_003ee1cddb00row3_col2\" class=\"data row3 col2\" >891</td> \n",
       "    </tr></tbody> \n",
       "</table> "
      ],
      "text/plain": [
       "<pandas.io.formats.style.Styler at 0x14a557b00>"
      ]
     },
     "execution_count": 35,
     "metadata": {},
     "output_type": "execute_result"
    }
   ],
   "source": [
    "pd.crosstab(train_df.Pclass, train_df.Survived, margins=True).style.background_gradient(cmap='autumn_r')"
   ]
  },
  {
   "cell_type": "code",
   "execution_count": 43,
   "metadata": {},
   "outputs": [
    {
     "name": "stdout",
     "output_type": "stream",
     "text": [
      "% of survivals in\n",
      "Pclass 1: 0.6296296296296297\n",
      "Pclass 2: 0.47282608695652173\n",
      "Pclass 3: 0.24236252545824846\n"
     ]
    }
   ],
   "source": [
    "print(\"% of survivals in\")\n",
    "for pclass in range(1, 4):\n",
    "    print(f\"Pclass {pclass}:\", percent_of_survival('Pclass', pclass))"
   ]
  },
  {
   "cell_type": "code",
   "execution_count": 45,
   "metadata": {},
   "outputs": [
    {
     "data": {
      "text/plain": [
       "<seaborn.axisgrid.FacetGrid at 0x148cccc50>"
      ]
     },
     "execution_count": 45,
     "metadata": {},
     "output_type": "execute_result"
    },
    {
     "data": {
      "image/png": "[encoded data removed]",
      "text/plain": [
       "<Figure size 360x360 with 1 Axes>"
      ]
     },
     "metadata": {},
     "output_type": "display_data"
    }
   ],
   "source": [
    "sns.catplot('Pclass', 'Survived', kind='point', data=train_df)"
   ]
  },
  {
   "cell_type": "markdown",
   "metadata": {},
   "source": [
    "## Passenger Class and Sex:\n",
    "Almost all women in Pclass 1 and 2 survived and nearly all men in \n",
    "pclass 2 and 3 died."
   ]
  },
  {
   "cell_type": "markdown",
   "metadata": {},
   "source": [
    "pclass: A proxy for socio-economic status (SES)\n",
    "* 1st = Upper\n",
    "* 2nd = Middle\n",
    "* 3rd = Lower"
   ]
  },
  {
   "cell_type": "code",
   "execution_count": 48,
   "metadata": {},
   "outputs": [
    {
     "data": {
      "text/html": [
       "<style  type=\"text/css\" >\n",
       "    #T_865f107a_4528_11e9_9b53_003ee1cddb00row0_col0 {\n",
       "            background-color:  #ffff00;\n",
       "        }    #T_865f107a_4528_11e9_9b53_003ee1cddb00row0_col1 {\n",
       "            background-color:  #ffff00;\n",
       "        }    #T_865f107a_4528_11e9_9b53_003ee1cddb00row0_col2 {\n",
       "            background-color:  #fff100;\n",
       "        }    #T_865f107a_4528_11e9_9b53_003ee1cddb00row0_col3 {\n",
       "            background-color:  #ffff00;\n",
       "        }    #T_865f107a_4528_11e9_9b53_003ee1cddb00row1_col0 {\n",
       "            background-color:  #ff9600;\n",
       "        }    #T_865f107a_4528_11e9_9b53_003ee1cddb00row1_col1 {\n",
       "            background-color:  #ffa300;\n",
       "        }    #T_865f107a_4528_11e9_9b53_003ee1cddb00row1_col2 {\n",
       "            background-color:  #fff100;\n",
       "        }    #T_865f107a_4528_11e9_9b53_003ee1cddb00row1_col3 {\n",
       "            background-color:  #ffcf00;\n",
       "        }    #T_865f107a_4528_11e9_9b53_003ee1cddb00row2_col0 {\n",
       "            background-color:  #ffa700;\n",
       "        }    #T_865f107a_4528_11e9_9b53_003ee1cddb00row2_col1 {\n",
       "            background-color:  #ff8500;\n",
       "        }    #T_865f107a_4528_11e9_9b53_003ee1cddb00row2_col2 {\n",
       "            background-color:  #ff6e00;\n",
       "        }    #T_865f107a_4528_11e9_9b53_003ee1cddb00row2_col3 {\n",
       "            background-color:  #ff8500;\n",
       "        }    #T_865f107a_4528_11e9_9b53_003ee1cddb00row3_col0 {\n",
       "            background-color:  #ffcd00;\n",
       "        }    #T_865f107a_4528_11e9_9b53_003ee1cddb00row3_col1 {\n",
       "            background-color:  #fff000;\n",
       "        }    #T_865f107a_4528_11e9_9b53_003ee1cddb00row3_col2 {\n",
       "            background-color:  #ffff00;\n",
       "        }    #T_865f107a_4528_11e9_9b53_003ee1cddb00row3_col3 {\n",
       "            background-color:  #fff700;\n",
       "        }    #T_865f107a_4528_11e9_9b53_003ee1cddb00row4_col0 {\n",
       "            background-color:  #ff0000;\n",
       "        }    #T_865f107a_4528_11e9_9b53_003ee1cddb00row4_col1 {\n",
       "            background-color:  #ff0000;\n",
       "        }    #T_865f107a_4528_11e9_9b53_003ee1cddb00row4_col2 {\n",
       "            background-color:  #ff0000;\n",
       "        }    #T_865f107a_4528_11e9_9b53_003ee1cddb00row4_col3 {\n",
       "            background-color:  #ff0000;\n",
       "        }</style>  \n",
       "<table id=\"T_865f107a_4528_11e9_9b53_003ee1cddb00\" > \n",
       "<thead>    <tr> \n",
       "        <th class=\"blank\" ></th> \n",
       "        <th class=\"index_name level0\" >Pclass</th> \n",
       "        <th class=\"col_heading level0 col0\" >1</th> \n",
       "        <th class=\"col_heading level0 col1\" >2</th> \n",
       "        <th class=\"col_heading level0 col2\" >3</th> \n",
       "        <th class=\"col_heading level0 col3\" >All</th> \n",
       "    </tr>    <tr> \n",
       "        <th class=\"index_name level0\" >Sex</th> \n",
       "        <th class=\"index_name level1\" >Survived</th> \n",
       "        <th class=\"blank\" ></th> \n",
       "        <th class=\"blank\" ></th> \n",
       "        <th class=\"blank\" ></th> \n",
       "        <th class=\"blank\" ></th> \n",
       "    </tr></thead> \n",
       "<tbody>    <tr> \n",
       "        <th id=\"T_865f107a_4528_11e9_9b53_003ee1cddb00level0_row0\" class=\"row_heading level0 row0\" rowspan=2>female</th> \n",
       "        <th id=\"T_865f107a_4528_11e9_9b53_003ee1cddb00level1_row0\" class=\"row_heading level1 row0\" >0</th> \n",
       "        <td id=\"T_865f107a_4528_11e9_9b53_003ee1cddb00row0_col0\" class=\"data row0 col0\" >3</td> \n",
       "        <td id=\"T_865f107a_4528_11e9_9b53_003ee1cddb00row0_col1\" class=\"data row0 col1\" >6</td> \n",
       "        <td id=\"T_865f107a_4528_11e9_9b53_003ee1cddb00row0_col2\" class=\"data row0 col2\" >72</td> \n",
       "        <td id=\"T_865f107a_4528_11e9_9b53_003ee1cddb00row0_col3\" class=\"data row0 col3\" >81</td> \n",
       "    </tr>    <tr> \n",
       "        <th id=\"T_865f107a_4528_11e9_9b53_003ee1cddb00level1_row1\" class=\"row_heading level1 row1\" >1</th> \n",
       "        <td id=\"T_865f107a_4528_11e9_9b53_003ee1cddb00row1_col0\" class=\"data row1 col0\" >91</td> \n",
       "        <td id=\"T_865f107a_4528_11e9_9b53_003ee1cddb00row1_col1\" class=\"data row1 col1\" >70</td> \n",
       "        <td id=\"T_865f107a_4528_11e9_9b53_003ee1cddb00row1_col2\" class=\"data row1 col2\" >72</td> \n",
       "        <td id=\"T_865f107a_4528_11e9_9b53_003ee1cddb00row1_col3\" class=\"data row1 col3\" >233</td> \n",
       "    </tr>    <tr> \n",
       "        <th id=\"T_865f107a_4528_11e9_9b53_003ee1cddb00level0_row2\" class=\"row_heading level0 row2\" rowspan=2>male</th> \n",
       "        <th id=\"T_865f107a_4528_11e9_9b53_003ee1cddb00level1_row2\" class=\"row_heading level1 row2\" >0</th> \n",
       "        <td id=\"T_865f107a_4528_11e9_9b53_003ee1cddb00row2_col0\" class=\"data row2 col0\" >77</td> \n",
       "        <td id=\"T_865f107a_4528_11e9_9b53_003ee1cddb00row2_col1\" class=\"data row2 col1\" >91</td> \n",
       "        <td id=\"T_865f107a_4528_11e9_9b53_003ee1cddb00row2_col2\" class=\"data row2 col2\" >300</td> \n",
       "        <td id=\"T_865f107a_4528_11e9_9b53_003ee1cddb00row2_col3\" class=\"data row2 col3\" >468</td> \n",
       "    </tr>    <tr> \n",
       "        <th id=\"T_865f107a_4528_11e9_9b53_003ee1cddb00level1_row3\" class=\"row_heading level1 row3\" >1</th> \n",
       "        <td id=\"T_865f107a_4528_11e9_9b53_003ee1cddb00row3_col0\" class=\"data row3 col0\" >45</td> \n",
       "        <td id=\"T_865f107a_4528_11e9_9b53_003ee1cddb00row3_col1\" class=\"data row3 col1\" >17</td> \n",
       "        <td id=\"T_865f107a_4528_11e9_9b53_003ee1cddb00row3_col2\" class=\"data row3 col2\" >47</td> \n",
       "        <td id=\"T_865f107a_4528_11e9_9b53_003ee1cddb00row3_col3\" class=\"data row3 col3\" >109</td> \n",
       "    </tr>    <tr> \n",
       "        <th id=\"T_865f107a_4528_11e9_9b53_003ee1cddb00level0_row4\" class=\"row_heading level0 row4\" >All</th> \n",
       "        <th id=\"T_865f107a_4528_11e9_9b53_003ee1cddb00level1_row4\" class=\"row_heading level1 row4\" ></th> \n",
       "        <td id=\"T_865f107a_4528_11e9_9b53_003ee1cddb00row4_col0\" class=\"data row4 col0\" >216</td> \n",
       "        <td id=\"T_865f107a_4528_11e9_9b53_003ee1cddb00row4_col1\" class=\"data row4 col1\" >184</td> \n",
       "        <td id=\"T_865f107a_4528_11e9_9b53_003ee1cddb00row4_col2\" class=\"data row4 col2\" >491</td> \n",
       "        <td id=\"T_865f107a_4528_11e9_9b53_003ee1cddb00row4_col3\" class=\"data row4 col3\" >891</td> \n",
       "    </tr></tbody> \n",
       "</table> "
      ],
      "text/plain": [
       "<pandas.io.formats.style.Styler at 0x14a8f3940>"
      ]
     },
     "execution_count": 48,
     "metadata": {},
     "output_type": "execute_result"
    }
   ],
   "source": [
    "pd.crosstab([train_df.Sex, train_df.Survived], train_df.Pclass, margins=True\n",
    ").style.background_gradient(cmap='autumn_r')"
   ]
  },
  {
   "cell_type": "code",
   "execution_count": 49,
   "metadata": {},
   "outputs": [
    {
     "data": {
      "text/plain": [
       "<seaborn.axisgrid.FacetGrid at 0x14a985ba8>"
      ]
     },
     "execution_count": 49,
     "metadata": {},
     "output_type": "execute_result"
    },
    {
     "data": {
      "image/png": "[encoded data removed]",
      "text/plain": [
       "<Figure size 432.85x360 with 1 Axes>"
      ]
     },
     "metadata": {},
     "output_type": "display_data"
    }
   ],
   "source": [
    "sns.catplot('Pclass', 'Survived', hue='Sex', kind='point', data=train_df)"
   ]
  },
  {
   "cell_type": "markdown",
   "metadata": {},
   "source": [
    "## Embarked\n",
    "Survival rate lowest for S and highest for C"
   ]
  },
  {
   "cell_type": "markdown",
   "metadata": {},
   "source": [
    "embarked - Port of Embarkation (C = Cherbourg; Q = Queenstown; S = Southampton)"
   ]
  },
  {
   "cell_type": "code",
   "execution_count": 50,
   "metadata": {},
   "outputs": [
    {
     "data": {
      "text/plain": [
       "<seaborn.axisgrid.FacetGrid at 0x14a71dc88>"
      ]
     },
     "execution_count": 50,
     "metadata": {},
     "output_type": "execute_result"
    },
    {
     "data": {
      "image/png": "[encoded data removed]",
      "text/plain": [
       "<Figure size 1080x360 with 3 Axes>"
      ]
     },
     "metadata": {},
     "output_type": "display_data"
    }
   ],
   "source": [
    "sns.catplot(x='Survived', col='Embarked', kind='count', data=train_df)"
   ]
  },
  {
   "cell_type": "code",
   "execution_count": 51,
   "metadata": {},
   "outputs": [
    {
     "data": {
      "image/png": "[encoded data removed]",
      "text/plain": [
       "<Figure size 360x360 with 1 Axes>"
      ]
     },
     "metadata": {},
     "output_type": "display_data"
    }
   ],
   "source": [
    "sns.catplot('Embarked','Survived', kind='point', data=train_df);"
   ]
  },
  {
   "cell_type": "markdown",
   "metadata": {},
   "source": [
    "## Embarked and Sex"
   ]
  },
  {
   "cell_type": "code",
   "execution_count": 52,
   "metadata": {},
   "outputs": [
    {
     "data": {
      "text/plain": [
       "<seaborn.axisgrid.FacetGrid at 0x14ac6dc88>"
      ]
     },
     "execution_count": 52,
     "metadata": {},
     "output_type": "execute_result"
    },
    {
     "data": {
      "image/png": "[encoded data removed]",
      "text/plain": [
       "<Figure size 432.85x360 with 1 Axes>"
      ]
     },
     "metadata": {},
     "output_type": "display_data"
    }
   ],
   "source": [
    "sns.catplot('Embarked', 'Survived', hue='Sex', kind='point', data=train_df)"
   ]
  },
  {
   "cell_type": "markdown",
   "metadata": {},
   "source": [
    "## Embarked, Pclass and Sex:"
   ]
  },
  {
   "cell_type": "markdown",
   "metadata": {},
   "source": [
    "Practically all women of Pclass 2 that embarked in C and Q survived, also nearly all women of Pclass 1 survived.\n",
    "\n",
    "All men of Pclass 1 and 2 embarked in Q died, survival rate for men in Pclass 2 and 3 is always below 0.2\n",
    "\n",
    "For the remaining men in Pclass 1 that embarked in S and Q, survival rate is approx. 0.4"
   ]
  },
  {
   "cell_type": "code",
   "execution_count": 53,
   "metadata": {},
   "outputs": [
    {
     "data": {
      "text/plain": [
       "<seaborn.axisgrid.FacetGrid at 0x14ab2f898>"
      ]
     },
     "execution_count": 53,
     "metadata": {},
     "output_type": "execute_result"
    },
    {
     "data": {
      "image/png": "[encoded data removed]",
      "text/plain": [
       "<Figure size 1152.85x360 with 3 Axes>"
      ]
     },
     "metadata": {},
     "output_type": "display_data"
    }
   ],
   "source": [
    "sns.catplot(\n",
    "    'Embarked', 'Survived', col='Pclass', hue='Sex', kind='point', data=train_df\n",
    ")"
   ]
  },
  {
   "cell_type": "code",
   "execution_count": 54,
   "metadata": {},
   "outputs": [
    {
     "data": {
      "text/html": [
       "<div>\n",
       "<style scoped>\n",
       "    .dataframe tbody tr th:only-of-type {\n",
       "        vertical-align: middle;\n",
       "    }\n",
       "\n",
       "    .dataframe tbody tr th {\n",
       "        vertical-align: top;\n",
       "    }\n",
       "\n",
       "    .dataframe thead tr th {\n",
       "        text-align: left;\n",
       "    }\n",
       "\n",
       "    .dataframe thead tr:last-of-type th {\n",
       "        text-align: right;\n",
       "    }\n",
       "</style>\n",
       "<table border=\"1\" class=\"dataframe\">\n",
       "  <thead>\n",
       "    <tr>\n",
       "      <th>Pclass</th>\n",
       "      <th colspan=\"3\" halign=\"left\">1</th>\n",
       "      <th colspan=\"3\" halign=\"left\">2</th>\n",
       "      <th colspan=\"3\" halign=\"left\">3</th>\n",
       "      <th>All</th>\n",
       "    </tr>\n",
       "    <tr>\n",
       "      <th>Embarked</th>\n",
       "      <th>C</th>\n",
       "      <th>Q</th>\n",
       "      <th>S</th>\n",
       "      <th>C</th>\n",
       "      <th>Q</th>\n",
       "      <th>S</th>\n",
       "      <th>C</th>\n",
       "      <th>Q</th>\n",
       "      <th>S</th>\n",
       "      <th></th>\n",
       "    </tr>\n",
       "    <tr>\n",
       "      <th>Survived</th>\n",
       "      <th></th>\n",
       "      <th></th>\n",
       "      <th></th>\n",
       "      <th></th>\n",
       "      <th></th>\n",
       "      <th></th>\n",
       "      <th></th>\n",
       "      <th></th>\n",
       "      <th></th>\n",
       "      <th></th>\n",
       "    </tr>\n",
       "  </thead>\n",
       "  <tbody>\n",
       "    <tr>\n",
       "      <th>0</th>\n",
       "      <td>26</td>\n",
       "      <td>1</td>\n",
       "      <td>53</td>\n",
       "      <td>8</td>\n",
       "      <td>1</td>\n",
       "      <td>88</td>\n",
       "      <td>41</td>\n",
       "      <td>45</td>\n",
       "      <td>286</td>\n",
       "      <td>549</td>\n",
       "    </tr>\n",
       "    <tr>\n",
       "      <th>1</th>\n",
       "      <td>59</td>\n",
       "      <td>1</td>\n",
       "      <td>74</td>\n",
       "      <td>9</td>\n",
       "      <td>2</td>\n",
       "      <td>76</td>\n",
       "      <td>25</td>\n",
       "      <td>27</td>\n",
       "      <td>67</td>\n",
       "      <td>340</td>\n",
       "    </tr>\n",
       "    <tr>\n",
       "      <th>All</th>\n",
       "      <td>85</td>\n",
       "      <td>2</td>\n",
       "      <td>127</td>\n",
       "      <td>17</td>\n",
       "      <td>3</td>\n",
       "      <td>164</td>\n",
       "      <td>66</td>\n",
       "      <td>72</td>\n",
       "      <td>353</td>\n",
       "      <td>889</td>\n",
       "    </tr>\n",
       "  </tbody>\n",
       "</table>\n",
       "</div>"
      ],
      "text/plain": [
       "Pclass     1           2           3           All\n",
       "Embarked   C  Q    S   C  Q    S   C   Q    S     \n",
       "Survived                                          \n",
       "0         26  1   53   8  1   88  41  45  286  549\n",
       "1         59  1   74   9  2   76  25  27   67  340\n",
       "All       85  2  127  17  3  164  66  72  353  889"
      ]
     },
     "execution_count": 54,
     "metadata": {},
     "output_type": "execute_result"
    }
   ],
   "source": [
    "pd.crosstab([train_df.Survived], [train_df.Pclass, train_df.Embarked], margins=True)"
   ]
  },
  {
   "cell_type": "markdown",
   "metadata": {},
   "source": [
    "third model : based on PClass, Sex and Embarked , submission : 0.779 accuracy"
   ]
  },
  {
   "cell_type": "code",
   "execution_count": 56,
   "metadata": {},
   "outputs": [],
   "source": [
    "test_df['Survived'] = 0\n",
    "test_df.loc[(test_df.Sex == 'female'), 'Survived'] = 1\n",
    "test_df.loc[(test_df.Sex == 'female') & \\\n",
    "            (test_df.Pclass == 3) & \\\n",
    "            (test_df.Embarked == 'S'), 'Survived'] = 0\n",
    "test_df[['PassengerId', 'Survived']].to_csv('embarked_pclass_sex.csv', index=False)"
   ]
  },
  {
   "cell_type": "markdown",
   "metadata": {},
   "source": [
    "## Age continuous numerical to 8 bins"
   ]
  },
  {
   "cell_type": "code",
   "execution_count": 60,
   "metadata": {},
   "outputs": [],
   "source": [
    "for df in [train_df, test_df]:\n",
    "    df['Age_bin'] = np.nan\n",
    "    for i in range(8, 0, -1):\n",
    "        df.loc[df['Age'] <= i * 10, 'Age_bin'] = i"
   ]
  },
  {
   "cell_type": "code",
   "execution_count": 62,
   "metadata": {},
   "outputs": [
    {
     "data": {
      "text/html": [
       "<div>\n",
       "<style scoped>\n",
       "    .dataframe tbody tr th:only-of-type {\n",
       "        vertical-align: middle;\n",
       "    }\n",
       "\n",
       "    .dataframe tbody tr th {\n",
       "        vertical-align: top;\n",
       "    }\n",
       "\n",
       "    .dataframe thead th {\n",
       "        text-align: right;\n",
       "    }\n",
       "</style>\n",
       "<table border=\"1\" class=\"dataframe\">\n",
       "  <thead>\n",
       "    <tr style=\"text-align: right;\">\n",
       "      <th></th>\n",
       "      <th>Age</th>\n",
       "      <th>Age_bin</th>\n",
       "    </tr>\n",
       "  </thead>\n",
       "  <tbody>\n",
       "    <tr>\n",
       "      <th>0</th>\n",
       "      <td>22.0</td>\n",
       "      <td>3.0</td>\n",
       "    </tr>\n",
       "    <tr>\n",
       "      <th>1</th>\n",
       "      <td>38.0</td>\n",
       "      <td>4.0</td>\n",
       "    </tr>\n",
       "    <tr>\n",
       "      <th>2</th>\n",
       "      <td>26.0</td>\n",
       "      <td>3.0</td>\n",
       "    </tr>\n",
       "    <tr>\n",
       "      <th>3</th>\n",
       "      <td>35.0</td>\n",
       "      <td>4.0</td>\n",
       "    </tr>\n",
       "    <tr>\n",
       "      <th>4</th>\n",
       "      <td>35.0</td>\n",
       "      <td>4.0</td>\n",
       "    </tr>\n",
       "    <tr>\n",
       "      <th>5</th>\n",
       "      <td>NaN</td>\n",
       "      <td>NaN</td>\n",
       "    </tr>\n",
       "    <tr>\n",
       "      <th>6</th>\n",
       "      <td>54.0</td>\n",
       "      <td>6.0</td>\n",
       "    </tr>\n",
       "    <tr>\n",
       "      <th>7</th>\n",
       "      <td>2.0</td>\n",
       "      <td>1.0</td>\n",
       "    </tr>\n",
       "    <tr>\n",
       "      <th>8</th>\n",
       "      <td>27.0</td>\n",
       "      <td>3.0</td>\n",
       "    </tr>\n",
       "    <tr>\n",
       "      <th>9</th>\n",
       "      <td>14.0</td>\n",
       "      <td>2.0</td>\n",
       "    </tr>\n",
       "  </tbody>\n",
       "</table>\n",
       "</div>"
      ],
      "text/plain": [
       "    Age  Age_bin\n",
       "0  22.0      3.0\n",
       "1  38.0      4.0\n",
       "2  26.0      3.0\n",
       "3  35.0      4.0\n",
       "4  35.0      4.0\n",
       "5   NaN      NaN\n",
       "6  54.0      6.0\n",
       "7   2.0      1.0\n",
       "8  27.0      3.0\n",
       "9  14.0      2.0"
      ]
     },
     "execution_count": 62,
     "metadata": {},
     "output_type": "execute_result"
    }
   ],
   "source": [
    "train_df[['Age', 'Age_bin']].head(10)"
   ]
  },
  {
   "cell_type": "code",
   "execution_count": 63,
   "metadata": {},
   "outputs": [
    {
     "data": {
      "text/plain": [
       "<seaborn.axisgrid.FacetGrid at 0x14b34fcc0>"
      ]
     },
     "execution_count": 63,
     "metadata": {},
     "output_type": "execute_result"
    },
    {
     "data": {
      "image/png": "[encoded data removed]",
      "text/plain": [
       "<Figure size 432.85x360 with 1 Axes>"
      ]
     },
     "metadata": {},
     "output_type": "display_data"
    }
   ],
   "source": [
    "sns.catplot('Age_bin', 'Survived', hue='Sex', kind='point', data=train_df)"
   ]
  },
  {
   "cell_type": "code",
   "execution_count": 64,
   "metadata": {},
   "outputs": [
    {
     "data": {
      "text/plain": [
       "<seaborn.axisgrid.FacetGrid at 0x14b2c9780>"
      ]
     },
     "execution_count": 64,
     "metadata": {},
     "output_type": "execute_result"
    },
    {
     "data": {
      "image/png": "[encoded data removed]",
      "text/plain": [
       "<Figure size 1080x720 with 6 Axes>"
      ]
     },
     "metadata": {},
     "output_type": "display_data"
    }
   ],
   "source": [
    "sns.catplot('Age_bin', 'Survived', col='Pclass', row='Sex', kind='point', data=train_df)"
   ]
  },
  {
   "cell_type": "code",
   "execution_count": 65,
   "metadata": {},
   "outputs": [
    {
     "data": {
      "text/html": [
       "<style  type=\"text/css\" >\n",
       "    #T_e26e41ba_45e6_11e9_a468_003ee1cddb00row0_col0 {\n",
       "            background-color:  #ffaa00;\n",
       "        }    #T_e26e41ba_45e6_11e9_a468_003ee1cddb00row0_col1 {\n",
       "            background-color:  #ffff00;\n",
       "        }    #T_e26e41ba_45e6_11e9_a468_003ee1cddb00row0_col2 {\n",
       "            background-color:  #ffea00;\n",
       "        }    #T_e26e41ba_45e6_11e9_a468_003ee1cddb00row0_col3 {\n",
       "            background-color:  #ffff00;\n",
       "        }    #T_e26e41ba_45e6_11e9_a468_003ee1cddb00row0_col4 {\n",
       "            background-color:  #ffff00;\n",
       "        }    #T_e26e41ba_45e6_11e9_a468_003ee1cddb00row0_col5 {\n",
       "            background-color:  #ffee00;\n",
       "        }    #T_e26e41ba_45e6_11e9_a468_003ee1cddb00row0_col6 {\n",
       "            background-color:  #ffff00;\n",
       "        }    #T_e26e41ba_45e6_11e9_a468_003ee1cddb00row0_col7 {\n",
       "            background-color:  #fff300;\n",
       "        }    #T_e26e41ba_45e6_11e9_a468_003ee1cddb00row0_col8 {\n",
       "            background-color:  #fffb00;\n",
       "        }    #T_e26e41ba_45e6_11e9_a468_003ee1cddb00row0_col9 {\n",
       "            background-color:  #ffff00;\n",
       "        }    #T_e26e41ba_45e6_11e9_a468_003ee1cddb00row0_col10 {\n",
       "            background-color:  #ffff00;\n",
       "        }    #T_e26e41ba_45e6_11e9_a468_003ee1cddb00row0_col11 {\n",
       "            background-color:  #fff700;\n",
       "        }    #T_e26e41ba_45e6_11e9_a468_003ee1cddb00row0_col12 {\n",
       "            background-color:  #ffff00;\n",
       "        }    #T_e26e41ba_45e6_11e9_a468_003ee1cddb00row0_col13 {\n",
       "            background-color:  #ffff00;\n",
       "        }    #T_e26e41ba_45e6_11e9_a468_003ee1cddb00row0_col14 {\n",
       "            background-color:  #ffbb00;\n",
       "        }    #T_e26e41ba_45e6_11e9_a468_003ee1cddb00row0_col15 {\n",
       "            background-color:  #ffff00;\n",
       "        }    #T_e26e41ba_45e6_11e9_a468_003ee1cddb00row0_col16 {\n",
       "            background-color:  #ffea00;\n",
       "        }    #T_e26e41ba_45e6_11e9_a468_003ee1cddb00row0_col17 {\n",
       "            background-color:  #ffff00;\n",
       "        }    #T_e26e41ba_45e6_11e9_a468_003ee1cddb00row0_col18 {\n",
       "            background-color:  #ffff00;\n",
       "        }    #T_e26e41ba_45e6_11e9_a468_003ee1cddb00row0_col19 {\n",
       "            background-color:  #ffff00;\n",
       "        }    #T_e26e41ba_45e6_11e9_a468_003ee1cddb00row0_col20 {\n",
       "            background-color:  #ffff00;\n",
       "        }    #T_e26e41ba_45e6_11e9_a468_003ee1cddb00row0_col21 {\n",
       "            background-color:  #ffff00;\n",
       "        }    #T_e26e41ba_45e6_11e9_a468_003ee1cddb00row0_col22 {\n",
       "            background-color:  #ffff00;\n",
       "        }    #T_e26e41ba_45e6_11e9_a468_003ee1cddb00row0_col23 {\n",
       "            background-color:  #ffff00;\n",
       "        }    #T_e26e41ba_45e6_11e9_a468_003ee1cddb00row1_col0 {\n",
       "            background-color:  #ffff00;\n",
       "        }    #T_e26e41ba_45e6_11e9_a468_003ee1cddb00row1_col1 {\n",
       "            background-color:  #ff8700;\n",
       "        }    #T_e26e41ba_45e6_11e9_a468_003ee1cddb00row1_col2 {\n",
       "            background-color:  #ffea00;\n",
       "        }    #T_e26e41ba_45e6_11e9_a468_003ee1cddb00row1_col3 {\n",
       "            background-color:  #ff4700;\n",
       "        }    #T_e26e41ba_45e6_11e9_a468_003ee1cddb00row1_col4 {\n",
       "            background-color:  #ff8e00;\n",
       "        }    #T_e26e41ba_45e6_11e9_a468_003ee1cddb00row1_col5 {\n",
       "            background-color:  #ffea00;\n",
       "        }    #T_e26e41ba_45e6_11e9_a468_003ee1cddb00row1_col6 {\n",
       "            background-color:  #ff8300;\n",
       "        }    #T_e26e41ba_45e6_11e9_a468_003ee1cddb00row1_col7 {\n",
       "            background-color:  #ff9700;\n",
       "        }    #T_e26e41ba_45e6_11e9_a468_003ee1cddb00row1_col8 {\n",
       "            background-color:  #fffb00;\n",
       "        }    #T_e26e41ba_45e6_11e9_a468_003ee1cddb00row1_col9 {\n",
       "            background-color:  #ff8200;\n",
       "        }    #T_e26e41ba_45e6_11e9_a468_003ee1cddb00row1_col10 {\n",
       "            background-color:  #ffa400;\n",
       "        }    #T_e26e41ba_45e6_11e9_a468_003ee1cddb00row1_col11 {\n",
       "            background-color:  #ffff00;\n",
       "        }    #T_e26e41ba_45e6_11e9_a468_003ee1cddb00row1_col12 {\n",
       "            background-color:  #ffb100;\n",
       "        }    #T_e26e41ba_45e6_11e9_a468_003ee1cddb00row1_col13 {\n",
       "            background-color:  #ff8e00;\n",
       "        }    #T_e26e41ba_45e6_11e9_a468_003ee1cddb00row1_col14 {\n",
       "            background-color:  #ffff00;\n",
       "        }    #T_e26e41ba_45e6_11e9_a468_003ee1cddb00row1_col15 {\n",
       "            background-color:  #ff8f00;\n",
       "        }    #T_e26e41ba_45e6_11e9_a468_003ee1cddb00row1_col16 {\n",
       "            background-color:  #ffd500;\n",
       "        }    #T_e26e41ba_45e6_11e9_a468_003ee1cddb00row1_col17 {\n",
       "            background-color:  #ffff00;\n",
       "        }    #T_e26e41ba_45e6_11e9_a468_003ee1cddb00row1_col18 {\n",
       "            background-color:  #ffd100;\n",
       "        }    #T_e26e41ba_45e6_11e9_a468_003ee1cddb00row1_col19 {\n",
       "            background-color:  #ffff00;\n",
       "        }    #T_e26e41ba_45e6_11e9_a468_003ee1cddb00row1_col20 {\n",
       "            background-color:  #ffaa00;\n",
       "        }    #T_e26e41ba_45e6_11e9_a468_003ee1cddb00row1_col21 {\n",
       "            background-color:  #ffff00;\n",
       "        }    #T_e26e41ba_45e6_11e9_a468_003ee1cddb00row1_col22 {\n",
       "            background-color:  #ffff00;\n",
       "        }    #T_e26e41ba_45e6_11e9_a468_003ee1cddb00row1_col23 {\n",
       "            background-color:  #ffcb00;\n",
       "        }    #T_e26e41ba_45e6_11e9_a468_003ee1cddb00row2_col0 {\n",
       "            background-color:  #ffff00;\n",
       "        }    #T_e26e41ba_45e6_11e9_a468_003ee1cddb00row2_col1 {\n",
       "            background-color:  #ffff00;\n",
       "        }    #T_e26e41ba_45e6_11e9_a468_003ee1cddb00row2_col2 {\n",
       "            background-color:  #ffd500;\n",
       "        }    #T_e26e41ba_45e6_11e9_a468_003ee1cddb00row2_col3 {\n",
       "            background-color:  #ffd500;\n",
       "        }    #T_e26e41ba_45e6_11e9_a468_003ee1cddb00row2_col4 {\n",
       "            background-color:  #ff7f00;\n",
       "        }    #T_e26e41ba_45e6_11e9_a468_003ee1cddb00row2_col5 {\n",
       "            background-color:  #ff7100;\n",
       "        }    #T_e26e41ba_45e6_11e9_a468_003ee1cddb00row2_col6 {\n",
       "            background-color:  #ffc400;\n",
       "        }    #T_e26e41ba_45e6_11e9_a468_003ee1cddb00row2_col7 {\n",
       "            background-color:  #ff7500;\n",
       "        }    #T_e26e41ba_45e6_11e9_a468_003ee1cddb00row2_col8 {\n",
       "            background-color:  #ff6600;\n",
       "        }    #T_e26e41ba_45e6_11e9_a468_003ee1cddb00row2_col9 {\n",
       "            background-color:  #ffc100;\n",
       "        }    #T_e26e41ba_45e6_11e9_a468_003ee1cddb00row2_col10 {\n",
       "            background-color:  #ff7900;\n",
       "        }    #T_e26e41ba_45e6_11e9_a468_003ee1cddb00row2_col11 {\n",
       "            background-color:  #ff5e00;\n",
       "        }    #T_e26e41ba_45e6_11e9_a468_003ee1cddb00row2_col12 {\n",
       "            background-color:  #ff9c00;\n",
       "        }    #T_e26e41ba_45e6_11e9_a468_003ee1cddb00row2_col13 {\n",
       "            background-color:  #ff9c00;\n",
       "        }    #T_e26e41ba_45e6_11e9_a468_003ee1cddb00row2_col14 {\n",
       "            background-color:  #ff5500;\n",
       "        }    #T_e26e41ba_45e6_11e9_a468_003ee1cddb00row2_col15 {\n",
       "            background-color:  #ff9900;\n",
       "        }    #T_e26e41ba_45e6_11e9_a468_003ee1cddb00row2_col16 {\n",
       "            background-color:  #ff3f00;\n",
       "        }    #T_e26e41ba_45e6_11e9_a468_003ee1cddb00row2_col17 {\n",
       "            background-color:  #ff0000;\n",
       "        }    #T_e26e41ba_45e6_11e9_a468_003ee1cddb00row2_col18 {\n",
       "            background-color:  #ff2e00;\n",
       "        }    #T_e26e41ba_45e6_11e9_a468_003ee1cddb00row2_col19 {\n",
       "            background-color:  #ff5500;\n",
       "        }    #T_e26e41ba_45e6_11e9_a468_003ee1cddb00row2_col20 {\n",
       "            background-color:  #ff5500;\n",
       "        }    #T_e26e41ba_45e6_11e9_a468_003ee1cddb00row2_col21 {\n",
       "            background-color:  #ff5500;\n",
       "        }    #T_e26e41ba_45e6_11e9_a468_003ee1cddb00row2_col22 {\n",
       "            background-color:  #ff0000;\n",
       "        }    #T_e26e41ba_45e6_11e9_a468_003ee1cddb00row2_col23 {\n",
       "            background-color:  #ff8b00;\n",
       "        }    #T_e26e41ba_45e6_11e9_a468_003ee1cddb00row3_col0 {\n",
       "            background-color:  #ff5500;\n",
       "        }    #T_e26e41ba_45e6_11e9_a468_003ee1cddb00row3_col1 {\n",
       "            background-color:  #ff7800;\n",
       "        }    #T_e26e41ba_45e6_11e9_a468_003ee1cddb00row3_col2 {\n",
       "            background-color:  #ffff00;\n",
       "        }    #T_e26e41ba_45e6_11e9_a468_003ee1cddb00row3_col3 {\n",
       "            background-color:  #ffe300;\n",
       "        }    #T_e26e41ba_45e6_11e9_a468_003ee1cddb00row3_col4 {\n",
       "            background-color:  #fff100;\n",
       "        }    #T_e26e41ba_45e6_11e9_a468_003ee1cddb00row3_col5 {\n",
       "            background-color:  #ffff00;\n",
       "        }    #T_e26e41ba_45e6_11e9_a468_003ee1cddb00row3_col6 {\n",
       "            background-color:  #ffcb00;\n",
       "        }    #T_e26e41ba_45e6_11e9_a468_003ee1cddb00row3_col7 {\n",
       "            background-color:  #ffff00;\n",
       "        }    #T_e26e41ba_45e6_11e9_a468_003ee1cddb00row3_col8 {\n",
       "            background-color:  #ffff00;\n",
       "        }    #T_e26e41ba_45e6_11e9_a468_003ee1cddb00row3_col9 {\n",
       "            background-color:  #ffbc00;\n",
       "        }    #T_e26e41ba_45e6_11e9_a468_003ee1cddb00row3_col10 {\n",
       "            background-color:  #fff300;\n",
       "        }    #T_e26e41ba_45e6_11e9_a468_003ee1cddb00row3_col11 {\n",
       "            background-color:  #fffb00;\n",
       "        }    #T_e26e41ba_45e6_11e9_a468_003ee1cddb00row3_col12 {\n",
       "            background-color:  #ffc700;\n",
       "        }    #T_e26e41ba_45e6_11e9_a468_003ee1cddb00row3_col13 {\n",
       "            background-color:  #ffff00;\n",
       "        }    #T_e26e41ba_45e6_11e9_a468_003ee1cddb00row3_col14 {\n",
       "            background-color:  #ffee00;\n",
       "        }    #T_e26e41ba_45e6_11e9_a468_003ee1cddb00row3_col15 {\n",
       "            background-color:  #ffd700;\n",
       "        }    #T_e26e41ba_45e6_11e9_a468_003ee1cddb00row3_col16 {\n",
       "            background-color:  #ffff00;\n",
       "        }    #T_e26e41ba_45e6_11e9_a468_003ee1cddb00row3_col17 {\n",
       "            background-color:  #ffff00;\n",
       "        }    #T_e26e41ba_45e6_11e9_a468_003ee1cddb00row3_col18 {\n",
       "            background-color:  #ffff00;\n",
       "        }    #T_e26e41ba_45e6_11e9_a468_003ee1cddb00row3_col19 {\n",
       "            background-color:  #ffaa00;\n",
       "        }    #T_e26e41ba_45e6_11e9_a468_003ee1cddb00row3_col20 {\n",
       "            background-color:  #ffff00;\n",
       "        }    #T_e26e41ba_45e6_11e9_a468_003ee1cddb00row3_col21 {\n",
       "            background-color:  #ffaa00;\n",
       "        }    #T_e26e41ba_45e6_11e9_a468_003ee1cddb00row3_col22 {\n",
       "            background-color:  #ffff00;\n",
       "        }    #T_e26e41ba_45e6_11e9_a468_003ee1cddb00row3_col23 {\n",
       "            background-color:  #fff400;\n",
       "        }    #T_e26e41ba_45e6_11e9_a468_003ee1cddb00row4_col0 {\n",
       "            background-color:  #ff0000;\n",
       "        }    #T_e26e41ba_45e6_11e9_a468_003ee1cddb00row4_col1 {\n",
       "            background-color:  #ff0000;\n",
       "        }    #T_e26e41ba_45e6_11e9_a468_003ee1cddb00row4_col2 {\n",
       "            background-color:  #ff0000;\n",
       "        }    #T_e26e41ba_45e6_11e9_a468_003ee1cddb00row4_col3 {\n",
       "            background-color:  #ff0000;\n",
       "        }    #T_e26e41ba_45e6_11e9_a468_003ee1cddb00row4_col4 {\n",
       "            background-color:  #ff0000;\n",
       "        }    #T_e26e41ba_45e6_11e9_a468_003ee1cddb00row4_col5 {\n",
       "            background-color:  #ff0000;\n",
       "        }    #T_e26e41ba_45e6_11e9_a468_003ee1cddb00row4_col6 {\n",
       "            background-color:  #ff0000;\n",
       "        }    #T_e26e41ba_45e6_11e9_a468_003ee1cddb00row4_col7 {\n",
       "            background-color:  #ff0000;\n",
       "        }    #T_e26e41ba_45e6_11e9_a468_003ee1cddb00row4_col8 {\n",
       "            background-color:  #ff0000;\n",
       "        }    #T_e26e41ba_45e6_11e9_a468_003ee1cddb00row4_col9 {\n",
       "            background-color:  #ff0000;\n",
       "        }    #T_e26e41ba_45e6_11e9_a468_003ee1cddb00row4_col10 {\n",
       "            background-color:  #ff0000;\n",
       "        }    #T_e26e41ba_45e6_11e9_a468_003ee1cddb00row4_col11 {\n",
       "            background-color:  #ff0000;\n",
       "        }    #T_e26e41ba_45e6_11e9_a468_003ee1cddb00row4_col12 {\n",
       "            background-color:  #ff0000;\n",
       "        }    #T_e26e41ba_45e6_11e9_a468_003ee1cddb00row4_col13 {\n",
       "            background-color:  #ff0000;\n",
       "        }    #T_e26e41ba_45e6_11e9_a468_003ee1cddb00row4_col14 {\n",
       "            background-color:  #ff0000;\n",
       "        }    #T_e26e41ba_45e6_11e9_a468_003ee1cddb00row4_col15 {\n",
       "            background-color:  #ff0000;\n",
       "        }    #T_e26e41ba_45e6_11e9_a468_003ee1cddb00row4_col16 {\n",
       "            background-color:  #ff0000;\n",
       "        }    #T_e26e41ba_45e6_11e9_a468_003ee1cddb00row4_col17 {\n",
       "            background-color:  #ff0000;\n",
       "        }    #T_e26e41ba_45e6_11e9_a468_003ee1cddb00row4_col18 {\n",
       "            background-color:  #ff0000;\n",
       "        }    #T_e26e41ba_45e6_11e9_a468_003ee1cddb00row4_col19 {\n",
       "            background-color:  #ff0000;\n",
       "        }    #T_e26e41ba_45e6_11e9_a468_003ee1cddb00row4_col20 {\n",
       "            background-color:  #ff0000;\n",
       "        }    #T_e26e41ba_45e6_11e9_a468_003ee1cddb00row4_col21 {\n",
       "            background-color:  #ff0000;\n",
       "        }    #T_e26e41ba_45e6_11e9_a468_003ee1cddb00row4_col22 {\n",
       "            background-color:  #ff0000;\n",
       "        }    #T_e26e41ba_45e6_11e9_a468_003ee1cddb00row4_col23 {\n",
       "            background-color:  #ff0000;\n",
       "        }</style>  \n",
       "<table id=\"T_e26e41ba_45e6_11e9_a468_003ee1cddb00\" > \n",
       "<thead>    <tr> \n",
       "        <th class=\"blank\" ></th> \n",
       "        <th class=\"index_name level0\" >Age_bin</th> \n",
       "        <th class=\"col_heading level0 col0\" colspan=3>1.0</th> \n",
       "        <th class=\"col_heading level0 col3\" colspan=3>2.0</th> \n",
       "        <th class=\"col_heading level0 col6\" colspan=3>3.0</th> \n",
       "        <th class=\"col_heading level0 col9\" colspan=3>4.0</th> \n",
       "        <th class=\"col_heading level0 col12\" colspan=3>5.0</th> \n",
       "        <th class=\"col_heading level0 col15\" colspan=3>6.0</th> \n",
       "        <th class=\"col_heading level0 col18\" colspan=3>7.0</th> \n",
       "        <th class=\"col_heading level0 col21\" colspan=2>8.0</th> \n",
       "        <th class=\"col_heading level0 col23\" >All</th> \n",
       "    </tr>    <tr> \n",
       "        <th class=\"blank\" ></th> \n",
       "        <th class=\"index_name level1\" >Pclass</th> \n",
       "        <th class=\"col_heading level1 col0\" >1</th> \n",
       "        <th class=\"col_heading level1 col1\" >2</th> \n",
       "        <th class=\"col_heading level1 col2\" >3</th> \n",
       "        <th class=\"col_heading level1 col3\" >1</th> \n",
       "        <th class=\"col_heading level1 col4\" >2</th> \n",
       "        <th class=\"col_heading level1 col5\" >3</th> \n",
       "        <th class=\"col_heading level1 col6\" >1</th> \n",
       "        <th class=\"col_heading level1 col7\" >2</th> \n",
       "        <th class=\"col_heading level1 col8\" >3</th> \n",
       "        <th class=\"col_heading level1 col9\" >1</th> \n",
       "        <th class=\"col_heading level1 col10\" >2</th> \n",
       "        <th class=\"col_heading level1 col11\" >3</th> \n",
       "        <th class=\"col_heading level1 col12\" >1</th> \n",
       "        <th class=\"col_heading level1 col13\" >2</th> \n",
       "        <th class=\"col_heading level1 col14\" >3</th> \n",
       "        <th class=\"col_heading level1 col15\" >1</th> \n",
       "        <th class=\"col_heading level1 col16\" >2</th> \n",
       "        <th class=\"col_heading level1 col17\" >3</th> \n",
       "        <th class=\"col_heading level1 col18\" >1</th> \n",
       "        <th class=\"col_heading level1 col19\" >2</th> \n",
       "        <th class=\"col_heading level1 col20\" >3</th> \n",
       "        <th class=\"col_heading level1 col21\" >1</th> \n",
       "        <th class=\"col_heading level1 col22\" >3</th> \n",
       "        <th class=\"col_heading level1 col23\" ></th> \n",
       "    </tr>    <tr> \n",
       "        <th class=\"index_name level0\" >Sex</th> \n",
       "        <th class=\"index_name level1\" >Survived</th> \n",
       "        <th class=\"blank\" ></th> \n",
       "        <th class=\"blank\" ></th> \n",
       "        <th class=\"blank\" ></th> \n",
       "        <th class=\"blank\" ></th> \n",
       "        <th class=\"blank\" ></th> \n",
       "        <th class=\"blank\" ></th> \n",
       "        <th class=\"blank\" ></th> \n",
       "        <th class=\"blank\" ></th> \n",
       "        <th class=\"blank\" ></th> \n",
       "        <th class=\"blank\" ></th> \n",
       "        <th class=\"blank\" ></th> \n",
       "        <th class=\"blank\" ></th> \n",
       "        <th class=\"blank\" ></th> \n",
       "        <th class=\"blank\" ></th> \n",
       "        <th class=\"blank\" ></th> \n",
       "        <th class=\"blank\" ></th> \n",
       "        <th class=\"blank\" ></th> \n",
       "        <th class=\"blank\" ></th> \n",
       "        <th class=\"blank\" ></th> \n",
       "        <th class=\"blank\" ></th> \n",
       "        <th class=\"blank\" ></th> \n",
       "        <th class=\"blank\" ></th> \n",
       "        <th class=\"blank\" ></th> \n",
       "        <th class=\"blank\" ></th> \n",
       "    </tr></thead> \n",
       "<tbody>    <tr> \n",
       "        <th id=\"T_e26e41ba_45e6_11e9_a468_003ee1cddb00level0_row0\" class=\"row_heading level0 row0\" rowspan=2>female</th> \n",
       "        <th id=\"T_e26e41ba_45e6_11e9_a468_003ee1cddb00level1_row0\" class=\"row_heading level1 row0\" >0</th> \n",
       "        <td id=\"T_e26e41ba_45e6_11e9_a468_003ee1cddb00row0_col0\" class=\"data row0 col0\" >1</td> \n",
       "        <td id=\"T_e26e41ba_45e6_11e9_a468_003ee1cddb00row0_col1\" class=\"data row0 col1\" >0</td> \n",
       "        <td id=\"T_e26e41ba_45e6_11e9_a468_003ee1cddb00row0_col2\" class=\"data row0 col2\" >11</td> \n",
       "        <td id=\"T_e26e41ba_45e6_11e9_a468_003ee1cddb00row0_col3\" class=\"data row0 col3\" >0</td> \n",
       "        <td id=\"T_e26e41ba_45e6_11e9_a468_003ee1cddb00row0_col4\" class=\"data row0 col4\" >0</td> \n",
       "        <td id=\"T_e26e41ba_45e6_11e9_a468_003ee1cddb00row0_col5\" class=\"data row0 col5\" >12</td> \n",
       "        <td id=\"T_e26e41ba_45e6_11e9_a468_003ee1cddb00row0_col6\" class=\"data row0 col6\" >1</td> \n",
       "        <td id=\"T_e26e41ba_45e6_11e9_a468_003ee1cddb00row0_col7\" class=\"data row0 col7\" >3</td> \n",
       "        <td id=\"T_e26e41ba_45e6_11e9_a468_003ee1cddb00row0_col8\" class=\"data row0 col8\" >16</td> \n",
       "        <td id=\"T_e26e41ba_45e6_11e9_a468_003ee1cddb00row0_col9\" class=\"data row0 col9\" >0</td> \n",
       "        <td id=\"T_e26e41ba_45e6_11e9_a468_003ee1cddb00row0_col10\" class=\"data row0 col10\" >1</td> \n",
       "        <td id=\"T_e26e41ba_45e6_11e9_a468_003ee1cddb00row0_col11\" class=\"data row0 col11\" >8</td> \n",
       "        <td id=\"T_e26e41ba_45e6_11e9_a468_003ee1cddb00row0_col12\" class=\"data row0 col12\" >1</td> \n",
       "        <td id=\"T_e26e41ba_45e6_11e9_a468_003ee1cddb00row0_col13\" class=\"data row0 col13\" >1</td> \n",
       "        <td id=\"T_e26e41ba_45e6_11e9_a468_003ee1cddb00row0_col14\" class=\"data row0 col14\" >8</td> \n",
       "        <td id=\"T_e26e41ba_45e6_11e9_a468_003ee1cddb00row0_col15\" class=\"data row0 col15\" >0</td> \n",
       "        <td id=\"T_e26e41ba_45e6_11e9_a468_003ee1cddb00row0_col16\" class=\"data row0 col16\" >1</td> \n",
       "        <td id=\"T_e26e41ba_45e6_11e9_a468_003ee1cddb00row0_col17\" class=\"data row0 col17\" >0</td> \n",
       "        <td id=\"T_e26e41ba_45e6_11e9_a468_003ee1cddb00row0_col18\" class=\"data row0 col18\" >0</td> \n",
       "        <td id=\"T_e26e41ba_45e6_11e9_a468_003ee1cddb00row0_col19\" class=\"data row0 col19\" >0</td> \n",
       "        <td id=\"T_e26e41ba_45e6_11e9_a468_003ee1cddb00row0_col20\" class=\"data row0 col20\" >0</td> \n",
       "        <td id=\"T_e26e41ba_45e6_11e9_a468_003ee1cddb00row0_col21\" class=\"data row0 col21\" >0</td> \n",
       "        <td id=\"T_e26e41ba_45e6_11e9_a468_003ee1cddb00row0_col22\" class=\"data row0 col22\" >0</td> \n",
       "        <td id=\"T_e26e41ba_45e6_11e9_a468_003ee1cddb00row0_col23\" class=\"data row0 col23\" >64</td> \n",
       "    </tr>    <tr> \n",
       "        <th id=\"T_e26e41ba_45e6_11e9_a468_003ee1cddb00level1_row1\" class=\"row_heading level1 row1\" >1</th> \n",
       "        <td id=\"T_e26e41ba_45e6_11e9_a468_003ee1cddb00row1_col0\" class=\"data row1 col0\" >0</td> \n",
       "        <td id=\"T_e26e41ba_45e6_11e9_a468_003ee1cddb00row1_col1\" class=\"data row1 col1\" >8</td> \n",
       "        <td id=\"T_e26e41ba_45e6_11e9_a468_003ee1cddb00row1_col2\" class=\"data row1 col2\" >11</td> \n",
       "        <td id=\"T_e26e41ba_45e6_11e9_a468_003ee1cddb00row1_col3\" class=\"data row1 col3\" >13</td> \n",
       "        <td id=\"T_e26e41ba_45e6_11e9_a468_003ee1cddb00row1_col4\" class=\"data row1 col4\" >8</td> \n",
       "        <td id=\"T_e26e41ba_45e6_11e9_a468_003ee1cddb00row1_col5\" class=\"data row1 col5\" >13</td> \n",
       "        <td id=\"T_e26e41ba_45e6_11e9_a468_003ee1cddb00row1_col6\" class=\"data row1 col6\" >20</td> \n",
       "        <td id=\"T_e26e41ba_45e6_11e9_a468_003ee1cddb00row1_col7\" class=\"data row1 col7\" >25</td> \n",
       "        <td id=\"T_e26e41ba_45e6_11e9_a468_003ee1cddb00row1_col8\" class=\"data row1 col8\" >16</td> \n",
       "        <td id=\"T_e26e41ba_45e6_11e9_a468_003ee1cddb00row1_col9\" class=\"data row1 col9\" >24</td> \n",
       "        <td id=\"T_e26e41ba_45e6_11e9_a468_003ee1cddb00row1_col10\" class=\"data row1 col10\" >16</td> \n",
       "        <td id=\"T_e26e41ba_45e6_11e9_a468_003ee1cddb00row1_col11\" class=\"data row1 col11\" >6</td> \n",
       "        <td id=\"T_e26e41ba_45e6_11e9_a468_003ee1cddb00row1_col12\" class=\"data row1 col12\" >12</td> \n",
       "        <td id=\"T_e26e41ba_45e6_11e9_a468_003ee1cddb00row1_col13\" class=\"data row1 col13\" >9</td> \n",
       "        <td id=\"T_e26e41ba_45e6_11e9_a468_003ee1cddb00row1_col14\" class=\"data row1 col14\" >0</td> \n",
       "        <td id=\"T_e26e41ba_45e6_11e9_a468_003ee1cddb00row1_col15\" class=\"data row1 col15\" >11</td> \n",
       "        <td id=\"T_e26e41ba_45e6_11e9_a468_003ee1cddb00row1_col16\" class=\"data row1 col16\" >2</td> \n",
       "        <td id=\"T_e26e41ba_45e6_11e9_a468_003ee1cddb00row1_col17\" class=\"data row1 col17\" >0</td> \n",
       "        <td id=\"T_e26e41ba_45e6_11e9_a468_003ee1cddb00row1_col18\" class=\"data row1 col18\" >2</td> \n",
       "        <td id=\"T_e26e41ba_45e6_11e9_a468_003ee1cddb00row1_col19\" class=\"data row1 col19\" >0</td> \n",
       "        <td id=\"T_e26e41ba_45e6_11e9_a468_003ee1cddb00row1_col20\" class=\"data row1 col20\" >1</td> \n",
       "        <td id=\"T_e26e41ba_45e6_11e9_a468_003ee1cddb00row1_col21\" class=\"data row1 col21\" >0</td> \n",
       "        <td id=\"T_e26e41ba_45e6_11e9_a468_003ee1cddb00row1_col22\" class=\"data row1 col22\" >0</td> \n",
       "        <td id=\"T_e26e41ba_45e6_11e9_a468_003ee1cddb00row1_col23\" class=\"data row1 col23\" >197</td> \n",
       "    </tr>    <tr> \n",
       "        <th id=\"T_e26e41ba_45e6_11e9_a468_003ee1cddb00level0_row2\" class=\"row_heading level0 row2\" rowspan=2>male</th> \n",
       "        <th id=\"T_e26e41ba_45e6_11e9_a468_003ee1cddb00level1_row2\" class=\"row_heading level1 row2\" >0</th> \n",
       "        <td id=\"T_e26e41ba_45e6_11e9_a468_003ee1cddb00row2_col0\" class=\"data row2 col0\" >0</td> \n",
       "        <td id=\"T_e26e41ba_45e6_11e9_a468_003ee1cddb00row2_col1\" class=\"data row2 col1\" >0</td> \n",
       "        <td id=\"T_e26e41ba_45e6_11e9_a468_003ee1cddb00row2_col2\" class=\"data row2 col2\" >14</td> \n",
       "        <td id=\"T_e26e41ba_45e6_11e9_a468_003ee1cddb00row2_col3\" class=\"data row2 col3\" >3</td> \n",
       "        <td id=\"T_e26e41ba_45e6_11e9_a468_003ee1cddb00row2_col4\" class=\"data row2 col4\" >9</td> \n",
       "        <td id=\"T_e26e41ba_45e6_11e9_a468_003ee1cddb00row2_col5\" class=\"data row2 col5\" >47</td> \n",
       "        <td id=\"T_e26e41ba_45e6_11e9_a468_003ee1cddb00row2_col6\" class=\"data row2 col6\" >10</td> \n",
       "        <td id=\"T_e26e41ba_45e6_11e9_a468_003ee1cddb00row2_col7\" class=\"data row2 col7\" >33</td> \n",
       "        <td id=\"T_e26e41ba_45e6_11e9_a468_003ee1cddb00row2_col8\" class=\"data row2 col8\" >83</td> \n",
       "        <td id=\"T_e26e41ba_45e6_11e9_a468_003ee1cddb00row2_col9\" class=\"data row2 col9\" >12</td> \n",
       "        <td id=\"T_e26e41ba_45e6_11e9_a468_003ee1cddb00row2_col10\" class=\"data row2 col10\" >23</td> \n",
       "        <td id=\"T_e26e41ba_45e6_11e9_a468_003ee1cddb00row2_col11\" class=\"data row2 col11\" >42</td> \n",
       "        <td id=\"T_e26e41ba_45e6_11e9_a468_003ee1cddb00row2_col12\" class=\"data row2 col12\" >15</td> \n",
       "        <td id=\"T_e26e41ba_45e6_11e9_a468_003ee1cddb00row2_col13\" class=\"data row2 col13\" >8</td> \n",
       "        <td id=\"T_e26e41ba_45e6_11e9_a468_003ee1cddb00row2_col14\" class=\"data row2 col14\" >20</td> \n",
       "        <td id=\"T_e26e41ba_45e6_11e9_a468_003ee1cddb00row2_col15\" class=\"data row2 col15\" >10</td> \n",
       "        <td id=\"T_e26e41ba_45e6_11e9_a468_003ee1cddb00row2_col16\" class=\"data row2 col16\" >9</td> \n",
       "        <td id=\"T_e26e41ba_45e6_11e9_a468_003ee1cddb00row2_col17\" class=\"data row2 col17\" >5</td> \n",
       "        <td id=\"T_e26e41ba_45e6_11e9_a468_003ee1cddb00row2_col18\" class=\"data row2 col18\" >9</td> \n",
       "        <td id=\"T_e26e41ba_45e6_11e9_a468_003ee1cddb00row2_col19\" class=\"data row2 col19\" >2</td> \n",
       "        <td id=\"T_e26e41ba_45e6_11e9_a468_003ee1cddb00row2_col20\" class=\"data row2 col20\" >2</td> \n",
       "        <td id=\"T_e26e41ba_45e6_11e9_a468_003ee1cddb00row2_col21\" class=\"data row2 col21\" >2</td> \n",
       "        <td id=\"T_e26e41ba_45e6_11e9_a468_003ee1cddb00row2_col22\" class=\"data row2 col22\" >2</td> \n",
       "        <td id=\"T_e26e41ba_45e6_11e9_a468_003ee1cddb00row2_col23\" class=\"data row2 col23\" >360</td> \n",
       "    </tr>    <tr> \n",
       "        <th id=\"T_e26e41ba_45e6_11e9_a468_003ee1cddb00level1_row3\" class=\"row_heading level1 row3\" >1</th> \n",
       "        <td id=\"T_e26e41ba_45e6_11e9_a468_003ee1cddb00row3_col0\" class=\"data row3 col0\" >2</td> \n",
       "        <td id=\"T_e26e41ba_45e6_11e9_a468_003ee1cddb00row3_col1\" class=\"data row3 col1\" >9</td> \n",
       "        <td id=\"T_e26e41ba_45e6_11e9_a468_003ee1cddb00row3_col2\" class=\"data row3 col2\" >8</td> \n",
       "        <td id=\"T_e26e41ba_45e6_11e9_a468_003ee1cddb00row3_col3\" class=\"data row3 col3\" >2</td> \n",
       "        <td id=\"T_e26e41ba_45e6_11e9_a468_003ee1cddb00row3_col4\" class=\"data row3 col4\" >1</td> \n",
       "        <td id=\"T_e26e41ba_45e6_11e9_a468_003ee1cddb00row3_col5\" class=\"data row3 col5\" >7</td> \n",
       "        <td id=\"T_e26e41ba_45e6_11e9_a468_003ee1cddb00row3_col6\" class=\"data row3 col6\" >9</td> \n",
       "        <td id=\"T_e26e41ba_45e6_11e9_a468_003ee1cddb00row3_col7\" class=\"data row3 col7\" >0</td> \n",
       "        <td id=\"T_e26e41ba_45e6_11e9_a468_003ee1cddb00row3_col8\" class=\"data row3 col8\" >14</td> \n",
       "        <td id=\"T_e26e41ba_45e6_11e9_a468_003ee1cddb00row3_col9\" class=\"data row3 col9\" >13</td> \n",
       "        <td id=\"T_e26e41ba_45e6_11e9_a468_003ee1cddb00row3_col10\" class=\"data row3 col10\" >3</td> \n",
       "        <td id=\"T_e26e41ba_45e6_11e9_a468_003ee1cddb00row3_col11\" class=\"data row3 col11\" >7</td> \n",
       "        <td id=\"T_e26e41ba_45e6_11e9_a468_003ee1cddb00row3_col12\" class=\"data row3 col12\" >9</td> \n",
       "        <td id=\"T_e26e41ba_45e6_11e9_a468_003ee1cddb00row3_col13\" class=\"data row3 col13\" >1</td> \n",
       "        <td id=\"T_e26e41ba_45e6_11e9_a468_003ee1cddb00row3_col14\" class=\"data row3 col14\" >2</td> \n",
       "        <td id=\"T_e26e41ba_45e6_11e9_a468_003ee1cddb00row3_col15\" class=\"data row3 col15\" >4</td> \n",
       "        <td id=\"T_e26e41ba_45e6_11e9_a468_003ee1cddb00row3_col16\" class=\"data row3 col16\" >0</td> \n",
       "        <td id=\"T_e26e41ba_45e6_11e9_a468_003ee1cddb00row3_col17\" class=\"data row3 col17\" >0</td> \n",
       "        <td id=\"T_e26e41ba_45e6_11e9_a468_003ee1cddb00row3_col18\" class=\"data row3 col18\" >0</td> \n",
       "        <td id=\"T_e26e41ba_45e6_11e9_a468_003ee1cddb00row3_col19\" class=\"data row3 col19\" >1</td> \n",
       "        <td id=\"T_e26e41ba_45e6_11e9_a468_003ee1cddb00row3_col20\" class=\"data row3 col20\" >0</td> \n",
       "        <td id=\"T_e26e41ba_45e6_11e9_a468_003ee1cddb00row3_col21\" class=\"data row3 col21\" >1</td> \n",
       "        <td id=\"T_e26e41ba_45e6_11e9_a468_003ee1cddb00row3_col22\" class=\"data row3 col22\" >0</td> \n",
       "        <td id=\"T_e26e41ba_45e6_11e9_a468_003ee1cddb00row3_col23\" class=\"data row3 col23\" >93</td> \n",
       "    </tr>    <tr> \n",
       "        <th id=\"T_e26e41ba_45e6_11e9_a468_003ee1cddb00level0_row4\" class=\"row_heading level0 row4\" >All</th> \n",
       "        <th id=\"T_e26e41ba_45e6_11e9_a468_003ee1cddb00level1_row4\" class=\"row_heading level1 row4\" ></th> \n",
       "        <td id=\"T_e26e41ba_45e6_11e9_a468_003ee1cddb00row4_col0\" class=\"data row4 col0\" >3</td> \n",
       "        <td id=\"T_e26e41ba_45e6_11e9_a468_003ee1cddb00row4_col1\" class=\"data row4 col1\" >17</td> \n",
       "        <td id=\"T_e26e41ba_45e6_11e9_a468_003ee1cddb00row4_col2\" class=\"data row4 col2\" >44</td> \n",
       "        <td id=\"T_e26e41ba_45e6_11e9_a468_003ee1cddb00row4_col3\" class=\"data row4 col3\" >18</td> \n",
       "        <td id=\"T_e26e41ba_45e6_11e9_a468_003ee1cddb00row4_col4\" class=\"data row4 col4\" >18</td> \n",
       "        <td id=\"T_e26e41ba_45e6_11e9_a468_003ee1cddb00row4_col5\" class=\"data row4 col5\" >79</td> \n",
       "        <td id=\"T_e26e41ba_45e6_11e9_a468_003ee1cddb00row4_col6\" class=\"data row4 col6\" >40</td> \n",
       "        <td id=\"T_e26e41ba_45e6_11e9_a468_003ee1cddb00row4_col7\" class=\"data row4 col7\" >61</td> \n",
       "        <td id=\"T_e26e41ba_45e6_11e9_a468_003ee1cddb00row4_col8\" class=\"data row4 col8\" >129</td> \n",
       "        <td id=\"T_e26e41ba_45e6_11e9_a468_003ee1cddb00row4_col9\" class=\"data row4 col9\" >49</td> \n",
       "        <td id=\"T_e26e41ba_45e6_11e9_a468_003ee1cddb00row4_col10\" class=\"data row4 col10\" >43</td> \n",
       "        <td id=\"T_e26e41ba_45e6_11e9_a468_003ee1cddb00row4_col11\" class=\"data row4 col11\" >63</td> \n",
       "        <td id=\"T_e26e41ba_45e6_11e9_a468_003ee1cddb00row4_col12\" class=\"data row4 col12\" >37</td> \n",
       "        <td id=\"T_e26e41ba_45e6_11e9_a468_003ee1cddb00row4_col13\" class=\"data row4 col13\" >19</td> \n",
       "        <td id=\"T_e26e41ba_45e6_11e9_a468_003ee1cddb00row4_col14\" class=\"data row4 col14\" >30</td> \n",
       "        <td id=\"T_e26e41ba_45e6_11e9_a468_003ee1cddb00row4_col15\" class=\"data row4 col15\" >25</td> \n",
       "        <td id=\"T_e26e41ba_45e6_11e9_a468_003ee1cddb00row4_col16\" class=\"data row4 col16\" >12</td> \n",
       "        <td id=\"T_e26e41ba_45e6_11e9_a468_003ee1cddb00row4_col17\" class=\"data row4 col17\" >5</td> \n",
       "        <td id=\"T_e26e41ba_45e6_11e9_a468_003ee1cddb00row4_col18\" class=\"data row4 col18\" >11</td> \n",
       "        <td id=\"T_e26e41ba_45e6_11e9_a468_003ee1cddb00row4_col19\" class=\"data row4 col19\" >3</td> \n",
       "        <td id=\"T_e26e41ba_45e6_11e9_a468_003ee1cddb00row4_col20\" class=\"data row4 col20\" >3</td> \n",
       "        <td id=\"T_e26e41ba_45e6_11e9_a468_003ee1cddb00row4_col21\" class=\"data row4 col21\" >3</td> \n",
       "        <td id=\"T_e26e41ba_45e6_11e9_a468_003ee1cddb00row4_col22\" class=\"data row4 col22\" >2</td> \n",
       "        <td id=\"T_e26e41ba_45e6_11e9_a468_003ee1cddb00row4_col23\" class=\"data row4 col23\" >714</td> \n",
       "    </tr></tbody> \n",
       "</table> "
      ],
      "text/plain": [
       "<pandas.io.formats.style.Styler at 0x14bcdd748>"
      ]
     },
     "execution_count": 65,
     "metadata": {},
     "output_type": "execute_result"
    }
   ],
   "source": [
    "pd.crosstab([train_df.Sex, train_df.Survived],\n",
    "            [train_df.Age_bin, train_df.Pclass], margins=True\n",
    "           ).style.background_gradient(cmap='autumn_r')"
   ]
  },
  {
   "cell_type": "markdown",
   "metadata": {},
   "source": [
    "# SibSp and Parch"
   ]
  },
  {
   "cell_type": "code",
   "execution_count": 66,
   "metadata": {},
   "outputs": [
    {
     "data": {
      "text/plain": [
       "<seaborn.axisgrid.FacetGrid at 0x14bd9bb70>"
      ]
     },
     "execution_count": 66,
     "metadata": {},
     "output_type": "execute_result"
    },
    {
     "data": {
      "image/png": "[encoded data removed]",
      "text/plain": [
       "<Figure size 1080x720 with 6 Axes>"
      ]
     },
     "metadata": {},
     "output_type": "display_data"
    }
   ],
   "source": [
    "sns.catplot(\n",
    "    'SibSp', 'Survived',\n",
    "    col='Pclass', row='Sex', kind='point', data=train_df\n",
    ")"
   ]
  },
  {
   "cell_type": "code",
   "execution_count": 79,
   "metadata": {},
   "outputs": [
    {
     "data": {
      "text/html": [
       "<style  type=\"text/css\" >\n",
       "    #T_de72f4ee_45ea_11e9_bc12_003ee1cddb00row0_col0 {\n",
       "            background-color:  #ffff00;\n",
       "        }    #T_de72f4ee_45ea_11e9_bc12_003ee1cddb00row0_col1 {\n",
       "            background-color:  #ffff00;\n",
       "        }    #T_de72f4ee_45ea_11e9_bc12_003ee1cddb00row0_col2 {\n",
       "            background-color:  #ffff00;\n",
       "        }    #T_de72f4ee_45ea_11e9_bc12_003ee1cddb00row0_col3 {\n",
       "            background-color:  #ffff00;\n",
       "        }    #T_de72f4ee_45ea_11e9_bc12_003ee1cddb00row0_col4 {\n",
       "            background-color:  #ffff00;\n",
       "        }    #T_de72f4ee_45ea_11e9_bc12_003ee1cddb00row0_col5 {\n",
       "            background-color:  #ffd900;\n",
       "        }    #T_de72f4ee_45ea_11e9_bc12_003ee1cddb00row0_col6 {\n",
       "            background-color:  #ffff00;\n",
       "        }    #T_de72f4ee_45ea_11e9_bc12_003ee1cddb00row0_col7 {\n",
       "            background-color:  #ffff00;\n",
       "        }    #T_de72f4ee_45ea_11e9_bc12_003ee1cddb00row0_col8 {\n",
       "            background-color:  #ffdb00;\n",
       "        }    #T_de72f4ee_45ea_11e9_bc12_003ee1cddb00row0_col9 {\n",
       "            background-color:  #ffff00;\n",
       "        }    #T_de72f4ee_45ea_11e9_bc12_003ee1cddb00row0_col10 {\n",
       "            background-color:  #ffff00;\n",
       "        }    #T_de72f4ee_45ea_11e9_bc12_003ee1cddb00row0_col11 {\n",
       "            background-color:  #ff6a00;\n",
       "        }    #T_de72f4ee_45ea_11e9_bc12_003ee1cddb00row0_col12 {\n",
       "            background-color:  #ffd200;\n",
       "        }    #T_de72f4ee_45ea_11e9_bc12_003ee1cddb00row0_col13 {\n",
       "            background-color:  #ffcc00;\n",
       "        }    #T_de72f4ee_45ea_11e9_bc12_003ee1cddb00row0_col14 {\n",
       "            background-color:  #ff9200;\n",
       "        }    #T_de72f4ee_45ea_11e9_bc12_003ee1cddb00row0_col15 {\n",
       "            background-color:  #ffff00;\n",
       "        }    #T_de72f4ee_45ea_11e9_bc12_003ee1cddb00row1_col0 {\n",
       "            background-color:  #ffa700;\n",
       "        }    #T_de72f4ee_45ea_11e9_bc12_003ee1cddb00row1_col1 {\n",
       "            background-color:  #ffac00;\n",
       "        }    #T_de72f4ee_45ea_11e9_bc12_003ee1cddb00row1_col2 {\n",
       "            background-color:  #fff300;\n",
       "        }    #T_de72f4ee_45ea_11e9_bc12_003ee1cddb00row1_col3 {\n",
       "            background-color:  #ff7a00;\n",
       "        }    #T_de72f4ee_45ea_11e9_bc12_003ee1cddb00row1_col4 {\n",
       "            background-color:  #ff9300;\n",
       "        }    #T_de72f4ee_45ea_11e9_bc12_003ee1cddb00row1_col5 {\n",
       "            background-color:  #ffe700;\n",
       "        }    #T_de72f4ee_45ea_11e9_bc12_003ee1cddb00row1_col6 {\n",
       "            background-color:  #ff6600;\n",
       "        }    #T_de72f4ee_45ea_11e9_bc12_003ee1cddb00row1_col7 {\n",
       "            background-color:  #ff9f00;\n",
       "        }    #T_de72f4ee_45ea_11e9_bc12_003ee1cddb00row1_col8 {\n",
       "            background-color:  #ffc900;\n",
       "        }    #T_de72f4ee_45ea_11e9_bc12_003ee1cddb00row1_col9 {\n",
       "            background-color:  #ff5500;\n",
       "        }    #T_de72f4ee_45ea_11e9_bc12_003ee1cddb00row1_col10 {\n",
       "            background-color:  #ff0000;\n",
       "        }    #T_de72f4ee_45ea_11e9_bc12_003ee1cddb00row1_col11 {\n",
       "            background-color:  #ffea00;\n",
       "        }    #T_de72f4ee_45ea_11e9_bc12_003ee1cddb00row1_col12 {\n",
       "            background-color:  #fff000;\n",
       "        }    #T_de72f4ee_45ea_11e9_bc12_003ee1cddb00row1_col13 {\n",
       "            background-color:  #ffff00;\n",
       "        }    #T_de72f4ee_45ea_11e9_bc12_003ee1cddb00row1_col14 {\n",
       "            background-color:  #ffff00;\n",
       "        }    #T_de72f4ee_45ea_11e9_bc12_003ee1cddb00row1_col15 {\n",
       "            background-color:  #ffcf00;\n",
       "        }    #T_de72f4ee_45ea_11e9_bc12_003ee1cddb00row2_col0 {\n",
       "            background-color:  #ff9200;\n",
       "        }    #T_de72f4ee_45ea_11e9_bc12_003ee1cddb00row2_col1 {\n",
       "            background-color:  #ff7300;\n",
       "        }    #T_de72f4ee_45ea_11e9_bc12_003ee1cddb00row2_col2 {\n",
       "            background-color:  #ff5d00;\n",
       "        }    #T_de72f4ee_45ea_11e9_bc12_003ee1cddb00row2_col3 {\n",
       "            background-color:  #ffcc00;\n",
       "        }    #T_de72f4ee_45ea_11e9_bc12_003ee1cddb00row2_col4 {\n",
       "            background-color:  #ffac00;\n",
       "        }    #T_de72f4ee_45ea_11e9_bc12_003ee1cddb00row2_col5 {\n",
       "            background-color:  #ffa800;\n",
       "        }    #T_de72f4ee_45ea_11e9_bc12_003ee1cddb00row2_col6 {\n",
       "            background-color:  #ffcc00;\n",
       "        }    #T_de72f4ee_45ea_11e9_bc12_003ee1cddb00row2_col7 {\n",
       "            background-color:  #ff7f00;\n",
       "        }    #T_de72f4ee_45ea_11e9_bc12_003ee1cddb00row2_col8 {\n",
       "            background-color:  #ff9200;\n",
       "        }    #T_de72f4ee_45ea_11e9_bc12_003ee1cddb00row2_col9 {\n",
       "            background-color:  #ffaa00;\n",
       "        }    #T_de72f4ee_45ea_11e9_bc12_003ee1cddb00row2_col10 {\n",
       "            background-color:  #ffff00;\n",
       "        }    #T_de72f4ee_45ea_11e9_bc12_003ee1cddb00row2_col11 {\n",
       "            background-color:  #ffaa00;\n",
       "        }    #T_de72f4ee_45ea_11e9_bc12_003ee1cddb00row2_col12 {\n",
       "            background-color:  #ff6900;\n",
       "        }    #T_de72f4ee_45ea_11e9_bc12_003ee1cddb00row2_col13 {\n",
       "            background-color:  #ff3300;\n",
       "        }    #T_de72f4ee_45ea_11e9_bc12_003ee1cddb00row2_col14 {\n",
       "            background-color:  #ff6d00;\n",
       "        }    #T_de72f4ee_45ea_11e9_bc12_003ee1cddb00row2_col15 {\n",
       "            background-color:  #ff8500;\n",
       "        }    #T_de72f4ee_45ea_11e9_bc12_003ee1cddb00row3_col0 {\n",
       "            background-color:  #ffcb00;\n",
       "        }    #T_de72f4ee_45ea_11e9_bc12_003ee1cddb00row3_col1 {\n",
       "            background-color:  #fff200;\n",
       "        }    #T_de72f4ee_45ea_11e9_bc12_003ee1cddb00row3_col2 {\n",
       "            background-color:  #fffe00;\n",
       "        }    #T_de72f4ee_45ea_11e9_bc12_003ee1cddb00row3_col3 {\n",
       "            background-color:  #ffcf00;\n",
       "        }    #T_de72f4ee_45ea_11e9_bc12_003ee1cddb00row3_col4 {\n",
       "            background-color:  #ffec00;\n",
       "        }    #T_de72f4ee_45ea_11e9_bc12_003ee1cddb00row3_col5 {\n",
       "            background-color:  #ffff00;\n",
       "        }    #T_de72f4ee_45ea_11e9_bc12_003ee1cddb00row3_col6 {\n",
       "            background-color:  #ffcc00;\n",
       "        }    #T_de72f4ee_45ea_11e9_bc12_003ee1cddb00row3_col7 {\n",
       "            background-color:  #ffdf00;\n",
       "        }    #T_de72f4ee_45ea_11e9_bc12_003ee1cddb00row3_col8 {\n",
       "            background-color:  #ffff00;\n",
       "        }    #T_de72f4ee_45ea_11e9_bc12_003ee1cddb00row3_col9 {\n",
       "            background-color:  #ffff00;\n",
       "        }    #T_de72f4ee_45ea_11e9_bc12_003ee1cddb00row3_col10 {\n",
       "            background-color:  #ffff00;\n",
       "        }    #T_de72f4ee_45ea_11e9_bc12_003ee1cddb00row3_col11 {\n",
       "            background-color:  #ffff00;\n",
       "        }    #T_de72f4ee_45ea_11e9_bc12_003ee1cddb00row3_col12 {\n",
       "            background-color:  #ffff00;\n",
       "        }    #T_de72f4ee_45ea_11e9_bc12_003ee1cddb00row3_col13 {\n",
       "            background-color:  #ffff00;\n",
       "        }    #T_de72f4ee_45ea_11e9_bc12_003ee1cddb00row3_col14 {\n",
       "            background-color:  #ffff00;\n",
       "        }    #T_de72f4ee_45ea_11e9_bc12_003ee1cddb00row3_col15 {\n",
       "            background-color:  #fff700;\n",
       "        }    #T_de72f4ee_45ea_11e9_bc12_003ee1cddb00row4_col0 {\n",
       "            background-color:  #ff0000;\n",
       "        }    #T_de72f4ee_45ea_11e9_bc12_003ee1cddb00row4_col1 {\n",
       "            background-color:  #ff0000;\n",
       "        }    #T_de72f4ee_45ea_11e9_bc12_003ee1cddb00row4_col2 {\n",
       "            background-color:  #ff0000;\n",
       "        }    #T_de72f4ee_45ea_11e9_bc12_003ee1cddb00row4_col3 {\n",
       "            background-color:  #ff0000;\n",
       "        }    #T_de72f4ee_45ea_11e9_bc12_003ee1cddb00row4_col4 {\n",
       "            background-color:  #ff0000;\n",
       "        }    #T_de72f4ee_45ea_11e9_bc12_003ee1cddb00row4_col5 {\n",
       "            background-color:  #ff0000;\n",
       "        }    #T_de72f4ee_45ea_11e9_bc12_003ee1cddb00row4_col6 {\n",
       "            background-color:  #ff0000;\n",
       "        }    #T_de72f4ee_45ea_11e9_bc12_003ee1cddb00row4_col7 {\n",
       "            background-color:  #ff0000;\n",
       "        }    #T_de72f4ee_45ea_11e9_bc12_003ee1cddb00row4_col8 {\n",
       "            background-color:  #ff0000;\n",
       "        }    #T_de72f4ee_45ea_11e9_bc12_003ee1cddb00row4_col9 {\n",
       "            background-color:  #ff0000;\n",
       "        }    #T_de72f4ee_45ea_11e9_bc12_003ee1cddb00row4_col10 {\n",
       "            background-color:  #ff0000;\n",
       "        }    #T_de72f4ee_45ea_11e9_bc12_003ee1cddb00row4_col11 {\n",
       "            background-color:  #ff0000;\n",
       "        }    #T_de72f4ee_45ea_11e9_bc12_003ee1cddb00row4_col12 {\n",
       "            background-color:  #ff0000;\n",
       "        }    #T_de72f4ee_45ea_11e9_bc12_003ee1cddb00row4_col13 {\n",
       "            background-color:  #ff0000;\n",
       "        }    #T_de72f4ee_45ea_11e9_bc12_003ee1cddb00row4_col14 {\n",
       "            background-color:  #ff0000;\n",
       "        }    #T_de72f4ee_45ea_11e9_bc12_003ee1cddb00row4_col15 {\n",
       "            background-color:  #ff0000;\n",
       "        }</style>  \n",
       "<table id=\"T_de72f4ee_45ea_11e9_bc12_003ee1cddb00\" > \n",
       "<thead>    <tr> \n",
       "        <th class=\"blank\" ></th> \n",
       "        <th class=\"index_name level0\" >SibSp</th> \n",
       "        <th class=\"col_heading level0 col0\" colspan=3>0</th> \n",
       "        <th class=\"col_heading level0 col3\" colspan=3>1</th> \n",
       "        <th class=\"col_heading level0 col6\" colspan=3>2</th> \n",
       "        <th class=\"col_heading level0 col9\" colspan=3>3</th> \n",
       "        <th class=\"col_heading level0 col12\" >4</th> \n",
       "        <th class=\"col_heading level0 col13\" >5</th> \n",
       "        <th class=\"col_heading level0 col14\" >8</th> \n",
       "        <th class=\"col_heading level0 col15\" >All</th> \n",
       "    </tr>    <tr> \n",
       "        <th class=\"blank\" ></th> \n",
       "        <th class=\"index_name level1\" >Pclass</th> \n",
       "        <th class=\"col_heading level1 col0\" >1</th> \n",
       "        <th class=\"col_heading level1 col1\" >2</th> \n",
       "        <th class=\"col_heading level1 col2\" >3</th> \n",
       "        <th class=\"col_heading level1 col3\" >1</th> \n",
       "        <th class=\"col_heading level1 col4\" >2</th> \n",
       "        <th class=\"col_heading level1 col5\" >3</th> \n",
       "        <th class=\"col_heading level1 col6\" >1</th> \n",
       "        <th class=\"col_heading level1 col7\" >2</th> \n",
       "        <th class=\"col_heading level1 col8\" >3</th> \n",
       "        <th class=\"col_heading level1 col9\" >1</th> \n",
       "        <th class=\"col_heading level1 col10\" >2</th> \n",
       "        <th class=\"col_heading level1 col11\" >3</th> \n",
       "        <th class=\"col_heading level1 col12\" >3</th> \n",
       "        <th class=\"col_heading level1 col13\" >3</th> \n",
       "        <th class=\"col_heading level1 col14\" >3</th> \n",
       "        <th class=\"col_heading level1 col15\" ></th> \n",
       "    </tr>    <tr> \n",
       "        <th class=\"index_name level0\" >Sex</th> \n",
       "        <th class=\"index_name level1\" >Survived</th> \n",
       "        <th class=\"blank\" ></th> \n",
       "        <th class=\"blank\" ></th> \n",
       "        <th class=\"blank\" ></th> \n",
       "        <th class=\"blank\" ></th> \n",
       "        <th class=\"blank\" ></th> \n",
       "        <th class=\"blank\" ></th> \n",
       "        <th class=\"blank\" ></th> \n",
       "        <th class=\"blank\" ></th> \n",
       "        <th class=\"blank\" ></th> \n",
       "        <th class=\"blank\" ></th> \n",
       "        <th class=\"blank\" ></th> \n",
       "        <th class=\"blank\" ></th> \n",
       "        <th class=\"blank\" ></th> \n",
       "        <th class=\"blank\" ></th> \n",
       "        <th class=\"blank\" ></th> \n",
       "        <th class=\"blank\" ></th> \n",
       "    </tr></thead> \n",
       "<tbody>    <tr> \n",
       "        <th id=\"T_de72f4ee_45ea_11e9_bc12_003ee1cddb00level0_row0\" class=\"row_heading level0 row0\" rowspan=2>female</th> \n",
       "        <th id=\"T_de72f4ee_45ea_11e9_bc12_003ee1cddb00level1_row0\" class=\"row_heading level1 row0\" >0</th> \n",
       "        <td id=\"T_de72f4ee_45ea_11e9_bc12_003ee1cddb00row0_col0\" class=\"data row0 col0\" >1</td> \n",
       "        <td id=\"T_de72f4ee_45ea_11e9_bc12_003ee1cddb00row0_col1\" class=\"data row0 col1\" >3</td> \n",
       "        <td id=\"T_de72f4ee_45ea_11e9_bc12_003ee1cddb00row0_col2\" class=\"data row0 col2\" >33</td> \n",
       "        <td id=\"T_de72f4ee_45ea_11e9_bc12_003ee1cddb00row0_col3\" class=\"data row0 col3\" >2</td> \n",
       "        <td id=\"T_de72f4ee_45ea_11e9_bc12_003ee1cddb00row0_col4\" class=\"data row0 col4\" >3</td> \n",
       "        <td id=\"T_de72f4ee_45ea_11e9_bc12_003ee1cddb00row0_col5\" class=\"data row0 col5\" >21</td> \n",
       "        <td id=\"T_de72f4ee_45ea_11e9_bc12_003ee1cddb00row0_col6\" class=\"data row0 col6\" >0</td> \n",
       "        <td id=\"T_de72f4ee_45ea_11e9_bc12_003ee1cddb00row0_col7\" class=\"data row0 col7\" >0</td> \n",
       "        <td id=\"T_de72f4ee_45ea_11e9_bc12_003ee1cddb00row0_col8\" class=\"data row0 col8\" >3</td> \n",
       "        <td id=\"T_de72f4ee_45ea_11e9_bc12_003ee1cddb00row0_col9\" class=\"data row0 col9\" >0</td> \n",
       "        <td id=\"T_de72f4ee_45ea_11e9_bc12_003ee1cddb00row0_col10\" class=\"data row0 col10\" >0</td> \n",
       "        <td id=\"T_de72f4ee_45ea_11e9_bc12_003ee1cddb00row0_col11\" class=\"data row0 col11\" >7</td> \n",
       "        <td id=\"T_de72f4ee_45ea_11e9_bc12_003ee1cddb00row0_col12\" class=\"data row0 col12\" >4</td> \n",
       "        <td id=\"T_de72f4ee_45ea_11e9_bc12_003ee1cddb00row0_col13\" class=\"data row0 col13\" >1</td> \n",
       "        <td id=\"T_de72f4ee_45ea_11e9_bc12_003ee1cddb00row0_col14\" class=\"data row0 col14\" >3</td> \n",
       "        <td id=\"T_de72f4ee_45ea_11e9_bc12_003ee1cddb00row0_col15\" class=\"data row0 col15\" >81</td> \n",
       "    </tr>    <tr> \n",
       "        <th id=\"T_de72f4ee_45ea_11e9_bc12_003ee1cddb00level1_row1\" class=\"row_heading level1 row1\" >1</th> \n",
       "        <td id=\"T_de72f4ee_45ea_11e9_bc12_003ee1cddb00row1_col0\" class=\"data row1 col0\" >48</td> \n",
       "        <td id=\"T_de72f4ee_45ea_11e9_bc12_003ee1cddb00row1_col1\" class=\"data row1 col1\" >41</td> \n",
       "        <td id=\"T_de72f4ee_45ea_11e9_bc12_003ee1cddb00row1_col2\" class=\"data row1 col2\" >48</td> \n",
       "        <td id=\"T_de72f4ee_45ea_11e9_bc12_003ee1cddb00row1_col3\" class=\"data row1 col3\" >38</td> \n",
       "        <td id=\"T_de72f4ee_45ea_11e9_bc12_003ee1cddb00row1_col4\" class=\"data row1 col4\" >25</td> \n",
       "        <td id=\"T_de72f4ee_45ea_11e9_bc12_003ee1cddb00row1_col5\" class=\"data row1 col5\" >17</td> \n",
       "        <td id=\"T_de72f4ee_45ea_11e9_bc12_003ee1cddb00row1_col6\" class=\"data row1 col6\" >3</td> \n",
       "        <td id=\"T_de72f4ee_45ea_11e9_bc12_003ee1cddb00row1_col7\" class=\"data row1 col7\" >3</td> \n",
       "        <td id=\"T_de72f4ee_45ea_11e9_bc12_003ee1cddb00row1_col8\" class=\"data row1 col8\" >4</td> \n",
       "        <td id=\"T_de72f4ee_45ea_11e9_bc12_003ee1cddb00row1_col9\" class=\"data row1 col9\" >2</td> \n",
       "        <td id=\"T_de72f4ee_45ea_11e9_bc12_003ee1cddb00row1_col10\" class=\"data row1 col10\" >1</td> \n",
       "        <td id=\"T_de72f4ee_45ea_11e9_bc12_003ee1cddb00row1_col11\" class=\"data row1 col11\" >1</td> \n",
       "        <td id=\"T_de72f4ee_45ea_11e9_bc12_003ee1cddb00row1_col12\" class=\"data row1 col12\" >2</td> \n",
       "        <td id=\"T_de72f4ee_45ea_11e9_bc12_003ee1cddb00row1_col13\" class=\"data row1 col13\" >0</td> \n",
       "        <td id=\"T_de72f4ee_45ea_11e9_bc12_003ee1cddb00row1_col14\" class=\"data row1 col14\" >0</td> \n",
       "        <td id=\"T_de72f4ee_45ea_11e9_bc12_003ee1cddb00row1_col15\" class=\"data row1 col15\" >233</td> \n",
       "    </tr>    <tr> \n",
       "        <th id=\"T_de72f4ee_45ea_11e9_bc12_003ee1cddb00level0_row2\" class=\"row_heading level0 row2\" rowspan=2>male</th> \n",
       "        <th id=\"T_de72f4ee_45ea_11e9_bc12_003ee1cddb00level1_row2\" class=\"row_heading level1 row2\" >0</th> \n",
       "        <td id=\"T_de72f4ee_45ea_11e9_bc12_003ee1cddb00row2_col0\" class=\"data row2 col0\" >59</td> \n",
       "        <td id=\"T_de72f4ee_45ea_11e9_bc12_003ee1cddb00row2_col1\" class=\"data row2 col1\" >67</td> \n",
       "        <td id=\"T_de72f4ee_45ea_11e9_bc12_003ee1cddb00row2_col2\" class=\"data row2 col2\" >235</td> \n",
       "        <td id=\"T_de72f4ee_45ea_11e9_bc12_003ee1cddb00row2_col3\" class=\"data row2 col3\" >16</td> \n",
       "        <td id=\"T_de72f4ee_45ea_11e9_bc12_003ee1cddb00row2_col4\" class=\"data row2 col4\" >20</td> \n",
       "        <td id=\"T_de72f4ee_45ea_11e9_bc12_003ee1cddb00row2_col5\" class=\"data row2 col5\" >35</td> \n",
       "        <td id=\"T_de72f4ee_45ea_11e9_bc12_003ee1cddb00row2_col6\" class=\"data row2 col6\" >1</td> \n",
       "        <td id=\"T_de72f4ee_45ea_11e9_bc12_003ee1cddb00row2_col7\" class=\"data row2 col7\" >4</td> \n",
       "        <td id=\"T_de72f4ee_45ea_11e9_bc12_003ee1cddb00row2_col8\" class=\"data row2 col8\" >7</td> \n",
       "        <td id=\"T_de72f4ee_45ea_11e9_bc12_003ee1cddb00row2_col9\" class=\"data row2 col9\" >1</td> \n",
       "        <td id=\"T_de72f4ee_45ea_11e9_bc12_003ee1cddb00row2_col10\" class=\"data row2 col10\" >0</td> \n",
       "        <td id=\"T_de72f4ee_45ea_11e9_bc12_003ee1cddb00row2_col11\" class=\"data row2 col11\" >4</td> \n",
       "        <td id=\"T_de72f4ee_45ea_11e9_bc12_003ee1cddb00row2_col12\" class=\"data row2 col12\" >11</td> \n",
       "        <td id=\"T_de72f4ee_45ea_11e9_bc12_003ee1cddb00row2_col13\" class=\"data row2 col13\" >4</td> \n",
       "        <td id=\"T_de72f4ee_45ea_11e9_bc12_003ee1cddb00row2_col14\" class=\"data row2 col14\" >4</td> \n",
       "        <td id=\"T_de72f4ee_45ea_11e9_bc12_003ee1cddb00row2_col15\" class=\"data row2 col15\" >468</td> \n",
       "    </tr>    <tr> \n",
       "        <th id=\"T_de72f4ee_45ea_11e9_bc12_003ee1cddb00level1_row3\" class=\"row_heading level1 row3\" >1</th> \n",
       "        <td id=\"T_de72f4ee_45ea_11e9_bc12_003ee1cddb00row3_col0\" class=\"data row3 col0\" >29</td> \n",
       "        <td id=\"T_de72f4ee_45ea_11e9_bc12_003ee1cddb00row3_col1\" class=\"data row3 col1\" >9</td> \n",
       "        <td id=\"T_de72f4ee_45ea_11e9_bc12_003ee1cddb00row3_col2\" class=\"data row3 col2\" >35</td> \n",
       "        <td id=\"T_de72f4ee_45ea_11e9_bc12_003ee1cddb00row3_col3\" class=\"data row3 col3\" >15</td> \n",
       "        <td id=\"T_de72f4ee_45ea_11e9_bc12_003ee1cddb00row3_col4\" class=\"data row3 col4\" >7</td> \n",
       "        <td id=\"T_de72f4ee_45ea_11e9_bc12_003ee1cddb00row3_col5\" class=\"data row3 col5\" >10</td> \n",
       "        <td id=\"T_de72f4ee_45ea_11e9_bc12_003ee1cddb00row3_col6\" class=\"data row3 col6\" >1</td> \n",
       "        <td id=\"T_de72f4ee_45ea_11e9_bc12_003ee1cddb00row3_col7\" class=\"data row3 col7\" >1</td> \n",
       "        <td id=\"T_de72f4ee_45ea_11e9_bc12_003ee1cddb00row3_col8\" class=\"data row3 col8\" >1</td> \n",
       "        <td id=\"T_de72f4ee_45ea_11e9_bc12_003ee1cddb00row3_col9\" class=\"data row3 col9\" >0</td> \n",
       "        <td id=\"T_de72f4ee_45ea_11e9_bc12_003ee1cddb00row3_col10\" class=\"data row3 col10\" >0</td> \n",
       "        <td id=\"T_de72f4ee_45ea_11e9_bc12_003ee1cddb00row3_col11\" class=\"data row3 col11\" >0</td> \n",
       "        <td id=\"T_de72f4ee_45ea_11e9_bc12_003ee1cddb00row3_col12\" class=\"data row3 col12\" >1</td> \n",
       "        <td id=\"T_de72f4ee_45ea_11e9_bc12_003ee1cddb00row3_col13\" class=\"data row3 col13\" >0</td> \n",
       "        <td id=\"T_de72f4ee_45ea_11e9_bc12_003ee1cddb00row3_col14\" class=\"data row3 col14\" >0</td> \n",
       "        <td id=\"T_de72f4ee_45ea_11e9_bc12_003ee1cddb00row3_col15\" class=\"data row3 col15\" >109</td> \n",
       "    </tr>    <tr> \n",
       "        <th id=\"T_de72f4ee_45ea_11e9_bc12_003ee1cddb00level0_row4\" class=\"row_heading level0 row4\" >All</th> \n",
       "        <th id=\"T_de72f4ee_45ea_11e9_bc12_003ee1cddb00level1_row4\" class=\"row_heading level1 row4\" ></th> \n",
       "        <td id=\"T_de72f4ee_45ea_11e9_bc12_003ee1cddb00row4_col0\" class=\"data row4 col0\" >137</td> \n",
       "        <td id=\"T_de72f4ee_45ea_11e9_bc12_003ee1cddb00row4_col1\" class=\"data row4 col1\" >120</td> \n",
       "        <td id=\"T_de72f4ee_45ea_11e9_bc12_003ee1cddb00row4_col2\" class=\"data row4 col2\" >351</td> \n",
       "        <td id=\"T_de72f4ee_45ea_11e9_bc12_003ee1cddb00row4_col3\" class=\"data row4 col3\" >71</td> \n",
       "        <td id=\"T_de72f4ee_45ea_11e9_bc12_003ee1cddb00row4_col4\" class=\"data row4 col4\" >55</td> \n",
       "        <td id=\"T_de72f4ee_45ea_11e9_bc12_003ee1cddb00row4_col5\" class=\"data row4 col5\" >83</td> \n",
       "        <td id=\"T_de72f4ee_45ea_11e9_bc12_003ee1cddb00row4_col6\" class=\"data row4 col6\" >5</td> \n",
       "        <td id=\"T_de72f4ee_45ea_11e9_bc12_003ee1cddb00row4_col7\" class=\"data row4 col7\" >8</td> \n",
       "        <td id=\"T_de72f4ee_45ea_11e9_bc12_003ee1cddb00row4_col8\" class=\"data row4 col8\" >15</td> \n",
       "        <td id=\"T_de72f4ee_45ea_11e9_bc12_003ee1cddb00row4_col9\" class=\"data row4 col9\" >3</td> \n",
       "        <td id=\"T_de72f4ee_45ea_11e9_bc12_003ee1cddb00row4_col10\" class=\"data row4 col10\" >1</td> \n",
       "        <td id=\"T_de72f4ee_45ea_11e9_bc12_003ee1cddb00row4_col11\" class=\"data row4 col11\" >12</td> \n",
       "        <td id=\"T_de72f4ee_45ea_11e9_bc12_003ee1cddb00row4_col12\" class=\"data row4 col12\" >18</td> \n",
       "        <td id=\"T_de72f4ee_45ea_11e9_bc12_003ee1cddb00row4_col13\" class=\"data row4 col13\" >5</td> \n",
       "        <td id=\"T_de72f4ee_45ea_11e9_bc12_003ee1cddb00row4_col14\" class=\"data row4 col14\" >7</td> \n",
       "        <td id=\"T_de72f4ee_45ea_11e9_bc12_003ee1cddb00row4_col15\" class=\"data row4 col15\" >891</td> \n",
       "    </tr></tbody> \n",
       "</table> "
      ],
      "text/plain": [
       "<pandas.io.formats.style.Styler at 0x14c8d26a0>"
      ]
     },
     "execution_count": 79,
     "metadata": {},
     "output_type": "execute_result"
    }
   ],
   "source": [
    "pd.crosstab(\n",
    "    [train_df.Sex, train_df.Survived],\n",
    "    [train_df.SibSp, train_df.Pclass],\n",
    "    margins=True\n",
    ").style.background_gradient(cmap='autumn_r')"
   ]
  },
  {
   "cell_type": "markdown",
   "metadata": {},
   "source": [
    "sibsp: The dataset defines family relations in this way...\n",
    "* Sibling = brother, sister, stepbrother, stepsister\n",
    "* Spouse = husband, wife (mistresses and fiancés were ignored)"
   ]
  },
  {
   "cell_type": "markdown",
   "metadata": {},
   "source": [
    "For males, no survival rate above 0.5 for any values of SibSp. For females, passengers with SibSp = 3 and Pclass = 3 died, also all females with SibSp > 4 died. For females with SibSp = 1 and Pclass = 3 survival rate is below 0.5"
   ]
  },
  {
   "cell_type": "markdown",
   "metadata": {},
   "source": [
    "## Fare continuous numerical to 12 bins"
   ]
  },
  {
   "cell_type": "code",
   "execution_count": 80,
   "metadata": {},
   "outputs": [
    {
     "data": {
      "text/plain": [
       "<matplotlib.axes._subplots.AxesSubplot at 0x14c495f98>"
      ]
     },
     "execution_count": 80,
     "metadata": {},
     "output_type": "execute_result"
    },
    {
     "data": {
      "image/png": "[encoded data removed]",
      "text/plain": [
       "<Figure size 432x288 with 1 Axes>"
      ]
     },
     "metadata": {},
     "output_type": "display_data"
    }
   ],
   "source": [
    "sns.distplot(train_df['Fare'])"
   ]
  },
  {
   "cell_type": "code",
   "execution_count": 81,
   "metadata": {},
   "outputs": [],
   "source": [
    "for df in [train_df, test_df]:\n",
    "    df['Fare_bin']=np.nan\n",
    "    for i in range(12,0,-1):\n",
    "        df.loc[ df['Fare'] <= i*50, 'Fare_bin'] = i\n"
   ]
  },
  {
   "cell_type": "code",
   "execution_count": 82,
   "metadata": {},
   "outputs": [
    {
     "data": {
      "image/png": "[encoded data removed]",
      "text/plain": [
       "<Figure size 1080x720 with 6 Axes>"
      ]
     },
     "metadata": {},
     "output_type": "display_data"
    }
   ],
   "source": [
    "sns.catplot(\n",
    "    'Fare_bin',\n",
    "    'Survived',\n",
    "    col='Pclass' , row = 'Sex', kind='point', data=train_df\n",
    ");"
   ]
  },
  {
   "cell_type": "code",
   "execution_count": 83,
   "metadata": {},
   "outputs": [
    {
     "data": {
      "text/html": [
       "<style  type=\"text/css\" >\n",
       "    #T_84d9943e_45ee_11e9_b057_003ee1cddb00row0_col0 {\n",
       "            background-color:  #ffff00;\n",
       "        }    #T_84d9943e_45ee_11e9_b057_003ee1cddb00row0_col1 {\n",
       "            background-color:  #ffff00;\n",
       "        }    #T_84d9943e_45ee_11e9_b057_003ee1cddb00row0_col2 {\n",
       "            background-color:  #fff000;\n",
       "        }    #T_84d9943e_45ee_11e9_b057_003ee1cddb00row0_col3 {\n",
       "            background-color:  #ffff00;\n",
       "        }    #T_84d9943e_45ee_11e9_b057_003ee1cddb00row0_col4 {\n",
       "            background-color:  #ffff00;\n",
       "        }    #T_84d9943e_45ee_11e9_b057_003ee1cddb00row0_col5 {\n",
       "            background-color:  #ffc900;\n",
       "        }    #T_84d9943e_45ee_11e9_b057_003ee1cddb00row0_col6 {\n",
       "            background-color:  #ffff00;\n",
       "        }    #T_84d9943e_45ee_11e9_b057_003ee1cddb00row0_col7 {\n",
       "            background-color:  #ffdf00;\n",
       "        }    #T_84d9943e_45ee_11e9_b057_003ee1cddb00row0_col8 {\n",
       "            background-color:  #ffff00;\n",
       "        }    #T_84d9943e_45ee_11e9_b057_003ee1cddb00row0_col9 {\n",
       "            background-color:  #ffff00;\n",
       "        }    #T_84d9943e_45ee_11e9_b057_003ee1cddb00row0_col10 {\n",
       "            background-color:  #ffff00;\n",
       "        }    #T_84d9943e_45ee_11e9_b057_003ee1cddb00row0_col11 {\n",
       "            background-color:  #ffff00;\n",
       "        }    #T_84d9943e_45ee_11e9_b057_003ee1cddb00row1_col0 {\n",
       "            background-color:  #ffde00;\n",
       "        }    #T_84d9943e_45ee_11e9_b057_003ee1cddb00row1_col1 {\n",
       "            background-color:  #ffa300;\n",
       "        }    #T_84d9943e_45ee_11e9_b057_003ee1cddb00row1_col2 {\n",
       "            background-color:  #ffee00;\n",
       "        }    #T_84d9943e_45ee_11e9_b057_003ee1cddb00row1_col3 {\n",
       "            background-color:  #ff7100;\n",
       "        }    #T_84d9943e_45ee_11e9_b057_003ee1cddb00row1_col4 {\n",
       "            background-color:  #ffb600;\n",
       "        }    #T_84d9943e_45ee_11e9_b057_003ee1cddb00row1_col5 {\n",
       "            background-color:  #ffff00;\n",
       "        }    #T_84d9943e_45ee_11e9_b057_003ee1cddb00row1_col6 {\n",
       "            background-color:  #ff5f00;\n",
       "        }    #T_84d9943e_45ee_11e9_b057_003ee1cddb00row1_col7 {\n",
       "            background-color:  #ff7f00;\n",
       "        }    #T_84d9943e_45ee_11e9_b057_003ee1cddb00row1_col8 {\n",
       "            background-color:  #ff5d00;\n",
       "        }    #T_84d9943e_45ee_11e9_b057_003ee1cddb00row1_col9 {\n",
       "            background-color:  #ff5500;\n",
       "        }    #T_84d9943e_45ee_11e9_b057_003ee1cddb00row1_col10 {\n",
       "            background-color:  #ffaa00;\n",
       "        }    #T_84d9943e_45ee_11e9_b057_003ee1cddb00row1_col11 {\n",
       "            background-color:  #ffcf00;\n",
       "        }    #T_84d9943e_45ee_11e9_b057_003ee1cddb00row2_col0 {\n",
       "            background-color:  #ff7500;\n",
       "        }    #T_84d9943e_45ee_11e9_b057_003ee1cddb00row2_col1 {\n",
       "            background-color:  #ff8800;\n",
       "        }    #T_84d9943e_45ee_11e9_b057_003ee1cddb00row2_col2 {\n",
       "            background-color:  #ff6b00;\n",
       "        }    #T_84d9943e_45ee_11e9_b057_003ee1cddb00row2_col3 {\n",
       "            background-color:  #ffbb00;\n",
       "        }    #T_84d9943e_45ee_11e9_b057_003ee1cddb00row2_col4 {\n",
       "            background-color:  #ff4900;\n",
       "        }    #T_84d9943e_45ee_11e9_b057_003ee1cddb00row2_col5 {\n",
       "            background-color:  #ff9200;\n",
       "        }    #T_84d9943e_45ee_11e9_b057_003ee1cddb00row2_col6 {\n",
       "            background-color:  #ffca00;\n",
       "        }    #T_84d9943e_45ee_11e9_b057_003ee1cddb00row2_col7 {\n",
       "            background-color:  #ffff00;\n",
       "        }    #T_84d9943e_45ee_11e9_b057_003ee1cddb00row2_col8 {\n",
       "            background-color:  #ffa200;\n",
       "        }    #T_84d9943e_45ee_11e9_b057_003ee1cddb00row2_col9 {\n",
       "            background-color:  #ffaa00;\n",
       "        }    #T_84d9943e_45ee_11e9_b057_003ee1cddb00row2_col10 {\n",
       "            background-color:  #ffff00;\n",
       "        }    #T_84d9943e_45ee_11e9_b057_003ee1cddb00row2_col11 {\n",
       "            background-color:  #ff8500;\n",
       "        }    #T_84d9943e_45ee_11e9_b057_003ee1cddb00row3_col0 {\n",
       "            background-color:  #ffb500;\n",
       "        }    #T_84d9943e_45ee_11e9_b057_003ee1cddb00row3_col1 {\n",
       "            background-color:  #ffef00;\n",
       "        }    #T_84d9943e_45ee_11e9_b057_003ee1cddb00row3_col2 {\n",
       "            background-color:  #ffff00;\n",
       "        }    #T_84d9943e_45ee_11e9_b057_003ee1cddb00row3_col3 {\n",
       "            background-color:  #ffd300;\n",
       "        }    #T_84d9943e_45ee_11e9_b057_003ee1cddb00row3_col4 {\n",
       "            background-color:  #ffff00;\n",
       "        }    #T_84d9943e_45ee_11e9_b057_003ee1cddb00row3_col5 {\n",
       "            background-color:  #ffa400;\n",
       "        }    #T_84d9943e_45ee_11e9_b057_003ee1cddb00row3_col6 {\n",
       "            background-color:  #ffd500;\n",
       "        }    #T_84d9943e_45ee_11e9_b057_003ee1cddb00row3_col7 {\n",
       "            background-color:  #ffff00;\n",
       "        }    #T_84d9943e_45ee_11e9_b057_003ee1cddb00row3_col8 {\n",
       "            background-color:  #ffff00;\n",
       "        }    #T_84d9943e_45ee_11e9_b057_003ee1cddb00row3_col9 {\n",
       "            background-color:  #ffff00;\n",
       "        }    #T_84d9943e_45ee_11e9_b057_003ee1cddb00row3_col10 {\n",
       "            background-color:  #ff5500;\n",
       "        }    #T_84d9943e_45ee_11e9_b057_003ee1cddb00row3_col11 {\n",
       "            background-color:  #fff700;\n",
       "        }    #T_84d9943e_45ee_11e9_b057_003ee1cddb00row4_col0 {\n",
       "            background-color:  #ff0000;\n",
       "        }    #T_84d9943e_45ee_11e9_b057_003ee1cddb00row4_col1 {\n",
       "            background-color:  #ff0000;\n",
       "        }    #T_84d9943e_45ee_11e9_b057_003ee1cddb00row4_col2 {\n",
       "            background-color:  #ff0000;\n",
       "        }    #T_84d9943e_45ee_11e9_b057_003ee1cddb00row4_col3 {\n",
       "            background-color:  #ff0000;\n",
       "        }    #T_84d9943e_45ee_11e9_b057_003ee1cddb00row4_col4 {\n",
       "            background-color:  #ff0000;\n",
       "        }    #T_84d9943e_45ee_11e9_b057_003ee1cddb00row4_col5 {\n",
       "            background-color:  #ff0000;\n",
       "        }    #T_84d9943e_45ee_11e9_b057_003ee1cddb00row4_col6 {\n",
       "            background-color:  #ff0000;\n",
       "        }    #T_84d9943e_45ee_11e9_b057_003ee1cddb00row4_col7 {\n",
       "            background-color:  #ff0000;\n",
       "        }    #T_84d9943e_45ee_11e9_b057_003ee1cddb00row4_col8 {\n",
       "            background-color:  #ff0000;\n",
       "        }    #T_84d9943e_45ee_11e9_b057_003ee1cddb00row4_col9 {\n",
       "            background-color:  #ff0000;\n",
       "        }    #T_84d9943e_45ee_11e9_b057_003ee1cddb00row4_col10 {\n",
       "            background-color:  #ff0000;\n",
       "        }    #T_84d9943e_45ee_11e9_b057_003ee1cddb00row4_col11 {\n",
       "            background-color:  #ff0000;\n",
       "        }</style>  \n",
       "<table id=\"T_84d9943e_45ee_11e9_b057_003ee1cddb00\" > \n",
       "<thead>    <tr> \n",
       "        <th class=\"blank\" ></th> \n",
       "        <th class=\"index_name level0\" >Fare_bin</th> \n",
       "        <th class=\"col_heading level0 col0\" colspan=3>1.0</th> \n",
       "        <th class=\"col_heading level0 col3\" colspan=3>2.0</th> \n",
       "        <th class=\"col_heading level0 col6\" >3.0</th> \n",
       "        <th class=\"col_heading level0 col7\" >4.0</th> \n",
       "        <th class=\"col_heading level0 col8\" >5.0</th> \n",
       "        <th class=\"col_heading level0 col9\" >6.0</th> \n",
       "        <th class=\"col_heading level0 col10\" >11.0</th> \n",
       "        <th class=\"col_heading level0 col11\" >All</th> \n",
       "    </tr>    <tr> \n",
       "        <th class=\"blank\" ></th> \n",
       "        <th class=\"index_name level1\" >Pclass</th> \n",
       "        <th class=\"col_heading level1 col0\" >1</th> \n",
       "        <th class=\"col_heading level1 col1\" >2</th> \n",
       "        <th class=\"col_heading level1 col2\" >3</th> \n",
       "        <th class=\"col_heading level1 col3\" >1</th> \n",
       "        <th class=\"col_heading level1 col4\" >2</th> \n",
       "        <th class=\"col_heading level1 col5\" >3</th> \n",
       "        <th class=\"col_heading level1 col6\" >1</th> \n",
       "        <th class=\"col_heading level1 col7\" >1</th> \n",
       "        <th class=\"col_heading level1 col8\" >1</th> \n",
       "        <th class=\"col_heading level1 col9\" >1</th> \n",
       "        <th class=\"col_heading level1 col10\" >1</th> \n",
       "        <th class=\"col_heading level1 col11\" ></th> \n",
       "    </tr>    <tr> \n",
       "        <th class=\"index_name level0\" >Sex</th> \n",
       "        <th class=\"index_name level1\" >Survived</th> \n",
       "        <th class=\"blank\" ></th> \n",
       "        <th class=\"blank\" ></th> \n",
       "        <th class=\"blank\" ></th> \n",
       "        <th class=\"blank\" ></th> \n",
       "        <th class=\"blank\" ></th> \n",
       "        <th class=\"blank\" ></th> \n",
       "        <th class=\"blank\" ></th> \n",
       "        <th class=\"blank\" ></th> \n",
       "        <th class=\"blank\" ></th> \n",
       "        <th class=\"blank\" ></th> \n",
       "        <th class=\"blank\" ></th> \n",
       "        <th class=\"blank\" ></th> \n",
       "    </tr></thead> \n",
       "<tbody>    <tr> \n",
       "        <th id=\"T_84d9943e_45ee_11e9_b057_003ee1cddb00level0_row0\" class=\"row_heading level0 row0\" rowspan=2>female</th> \n",
       "        <th id=\"T_84d9943e_45ee_11e9_b057_003ee1cddb00level1_row0\" class=\"row_heading level1 row0\" >0</th> \n",
       "        <td id=\"T_84d9943e_45ee_11e9_b057_003ee1cddb00row0_col0\" class=\"data row0 col0\" >1</td> \n",
       "        <td id=\"T_84d9943e_45ee_11e9_b057_003ee1cddb00row0_col1\" class=\"data row0 col1\" >6</td> \n",
       "        <td id=\"T_84d9943e_45ee_11e9_b057_003ee1cddb00row0_col2\" class=\"data row0 col2\" >69</td> \n",
       "        <td id=\"T_84d9943e_45ee_11e9_b057_003ee1cddb00row0_col3\" class=\"data row0 col3\" >0</td> \n",
       "        <td id=\"T_84d9943e_45ee_11e9_b057_003ee1cddb00row0_col4\" class=\"data row0 col4\" >0</td> \n",
       "        <td id=\"T_84d9943e_45ee_11e9_b057_003ee1cddb00row0_col5\" class=\"data row0 col5\" >3</td> \n",
       "        <td id=\"T_84d9943e_45ee_11e9_b057_003ee1cddb00row0_col6\" class=\"data row0 col6\" >0</td> \n",
       "        <td id=\"T_84d9943e_45ee_11e9_b057_003ee1cddb00row0_col7\" class=\"data row0 col7\" >2</td> \n",
       "        <td id=\"T_84d9943e_45ee_11e9_b057_003ee1cddb00row0_col8\" class=\"data row0 col8\" >0</td> \n",
       "        <td id=\"T_84d9943e_45ee_11e9_b057_003ee1cddb00row0_col9\" class=\"data row0 col9\" >0</td> \n",
       "        <td id=\"T_84d9943e_45ee_11e9_b057_003ee1cddb00row0_col10\" class=\"data row0 col10\" >0</td> \n",
       "        <td id=\"T_84d9943e_45ee_11e9_b057_003ee1cddb00row0_col11\" class=\"data row0 col11\" >81</td> \n",
       "    </tr>    <tr> \n",
       "        <th id=\"T_84d9943e_45ee_11e9_b057_003ee1cddb00level1_row1\" class=\"row_heading level1 row1\" >1</th> \n",
       "        <td id=\"T_84d9943e_45ee_11e9_b057_003ee1cddb00row1_col0\" class=\"data row1 col0\" >11</td> \n",
       "        <td id=\"T_84d9943e_45ee_11e9_b057_003ee1cddb00row1_col1\" class=\"data row1 col1\" >68</td> \n",
       "        <td id=\"T_84d9943e_45ee_11e9_b057_003ee1cddb00row1_col2\" class=\"data row1 col2\" >72</td> \n",
       "        <td id=\"T_84d9943e_45ee_11e9_b057_003ee1cddb00row1_col3\" class=\"data row1 col3\" >48</td> \n",
       "        <td id=\"T_84d9943e_45ee_11e9_b057_003ee1cddb00row1_col4\" class=\"data row1 col4\" >2</td> \n",
       "        <td id=\"T_84d9943e_45ee_11e9_b057_003ee1cddb00row1_col5\" class=\"data row1 col5\" >0</td> \n",
       "        <td id=\"T_84d9943e_45ee_11e9_b057_003ee1cddb00row1_col6\" class=\"data row1 col6\" >15</td> \n",
       "        <td id=\"T_84d9943e_45ee_11e9_b057_003ee1cddb00row1_col7\" class=\"data row1 col7\" >5</td> \n",
       "        <td id=\"T_84d9943e_45ee_11e9_b057_003ee1cddb00row1_col8\" class=\"data row1 col8\" >7</td> \n",
       "        <td id=\"T_84d9943e_45ee_11e9_b057_003ee1cddb00row1_col9\" class=\"data row1 col9\" >4</td> \n",
       "        <td id=\"T_84d9943e_45ee_11e9_b057_003ee1cddb00row1_col10\" class=\"data row1 col10\" >1</td> \n",
       "        <td id=\"T_84d9943e_45ee_11e9_b057_003ee1cddb00row1_col11\" class=\"data row1 col11\" >233</td> \n",
       "    </tr>    <tr> \n",
       "        <th id=\"T_84d9943e_45ee_11e9_b057_003ee1cddb00level0_row2\" class=\"row_heading level0 row2\" rowspan=2>male</th> \n",
       "        <th id=\"T_84d9943e_45ee_11e9_b057_003ee1cddb00level1_row2\" class=\"row_heading level1 row2\" >0</th> \n",
       "        <td id=\"T_84d9943e_45ee_11e9_b057_003ee1cddb00row2_col0\" class=\"data row2 col0\" >42</td> \n",
       "        <td id=\"T_84d9943e_45ee_11e9_b057_003ee1cddb00row2_col1\" class=\"data row2 col1\" >86</td> \n",
       "        <td id=\"T_84d9943e_45ee_11e9_b057_003ee1cddb00row2_col2\" class=\"data row2 col2\" >294</td> \n",
       "        <td id=\"T_84d9943e_45ee_11e9_b057_003ee1cddb00row2_col3\" class=\"data row2 col3\" >23</td> \n",
       "        <td id=\"T_84d9943e_45ee_11e9_b057_003ee1cddb00row2_col4\" class=\"data row2 col4\" >5</td> \n",
       "        <td id=\"T_84d9943e_45ee_11e9_b057_003ee1cddb00row2_col5\" class=\"data row2 col5\" >6</td> \n",
       "        <td id=\"T_84d9943e_45ee_11e9_b057_003ee1cddb00row2_col6\" class=\"data row2 col6\" >5</td> \n",
       "        <td id=\"T_84d9943e_45ee_11e9_b057_003ee1cddb00row2_col7\" class=\"data row2 col7\" >1</td> \n",
       "        <td id=\"T_84d9943e_45ee_11e9_b057_003ee1cddb00row2_col8\" class=\"data row2 col8\" >4</td> \n",
       "        <td id=\"T_84d9943e_45ee_11e9_b057_003ee1cddb00row2_col9\" class=\"data row2 col9\" >2</td> \n",
       "        <td id=\"T_84d9943e_45ee_11e9_b057_003ee1cddb00row2_col10\" class=\"data row2 col10\" >0</td> \n",
       "        <td id=\"T_84d9943e_45ee_11e9_b057_003ee1cddb00row2_col11\" class=\"data row2 col11\" >468</td> \n",
       "    </tr>    <tr> \n",
       "        <th id=\"T_84d9943e_45ee_11e9_b057_003ee1cddb00level1_row3\" class=\"row_heading level1 row3\" >1</th> \n",
       "        <td id=\"T_84d9943e_45ee_11e9_b057_003ee1cddb00row3_col0\" class=\"data row3 col0\" >23</td> \n",
       "        <td id=\"T_84d9943e_45ee_11e9_b057_003ee1cddb00row3_col1\" class=\"data row3 col1\" >17</td> \n",
       "        <td id=\"T_84d9943e_45ee_11e9_b057_003ee1cddb00row3_col2\" class=\"data row3 col2\" >42</td> \n",
       "        <td id=\"T_84d9943e_45ee_11e9_b057_003ee1cddb00row3_col3\" class=\"data row3 col3\" >15</td> \n",
       "        <td id=\"T_84d9943e_45ee_11e9_b057_003ee1cddb00row3_col4\" class=\"data row3 col4\" >0</td> \n",
       "        <td id=\"T_84d9943e_45ee_11e9_b057_003ee1cddb00row3_col5\" class=\"data row3 col5\" >5</td> \n",
       "        <td id=\"T_84d9943e_45ee_11e9_b057_003ee1cddb00row3_col6\" class=\"data row3 col6\" >4</td> \n",
       "        <td id=\"T_84d9943e_45ee_11e9_b057_003ee1cddb00row3_col7\" class=\"data row3 col7\" >1</td> \n",
       "        <td id=\"T_84d9943e_45ee_11e9_b057_003ee1cddb00row3_col8\" class=\"data row3 col8\" >0</td> \n",
       "        <td id=\"T_84d9943e_45ee_11e9_b057_003ee1cddb00row3_col9\" class=\"data row3 col9\" >0</td> \n",
       "        <td id=\"T_84d9943e_45ee_11e9_b057_003ee1cddb00row3_col10\" class=\"data row3 col10\" >2</td> \n",
       "        <td id=\"T_84d9943e_45ee_11e9_b057_003ee1cddb00row3_col11\" class=\"data row3 col11\" >109</td> \n",
       "    </tr>    <tr> \n",
       "        <th id=\"T_84d9943e_45ee_11e9_b057_003ee1cddb00level0_row4\" class=\"row_heading level0 row4\" >All</th> \n",
       "        <th id=\"T_84d9943e_45ee_11e9_b057_003ee1cddb00level1_row4\" class=\"row_heading level1 row4\" ></th> \n",
       "        <td id=\"T_84d9943e_45ee_11e9_b057_003ee1cddb00row4_col0\" class=\"data row4 col0\" >77</td> \n",
       "        <td id=\"T_84d9943e_45ee_11e9_b057_003ee1cddb00row4_col1\" class=\"data row4 col1\" >177</td> \n",
       "        <td id=\"T_84d9943e_45ee_11e9_b057_003ee1cddb00row4_col2\" class=\"data row4 col2\" >477</td> \n",
       "        <td id=\"T_84d9943e_45ee_11e9_b057_003ee1cddb00row4_col3\" class=\"data row4 col3\" >86</td> \n",
       "        <td id=\"T_84d9943e_45ee_11e9_b057_003ee1cddb00row4_col4\" class=\"data row4 col4\" >7</td> \n",
       "        <td id=\"T_84d9943e_45ee_11e9_b057_003ee1cddb00row4_col5\" class=\"data row4 col5\" >14</td> \n",
       "        <td id=\"T_84d9943e_45ee_11e9_b057_003ee1cddb00row4_col6\" class=\"data row4 col6\" >24</td> \n",
       "        <td id=\"T_84d9943e_45ee_11e9_b057_003ee1cddb00row4_col7\" class=\"data row4 col7\" >9</td> \n",
       "        <td id=\"T_84d9943e_45ee_11e9_b057_003ee1cddb00row4_col8\" class=\"data row4 col8\" >11</td> \n",
       "        <td id=\"T_84d9943e_45ee_11e9_b057_003ee1cddb00row4_col9\" class=\"data row4 col9\" >6</td> \n",
       "        <td id=\"T_84d9943e_45ee_11e9_b057_003ee1cddb00row4_col10\" class=\"data row4 col10\" >3</td> \n",
       "        <td id=\"T_84d9943e_45ee_11e9_b057_003ee1cddb00row4_col11\" class=\"data row4 col11\" >891</td> \n",
       "    </tr></tbody> \n",
       "</table> "
      ],
      "text/plain": [
       "<pandas.io.formats.style.Styler at 0x14c9873c8>"
      ]
     },
     "execution_count": 83,
     "metadata": {},
     "output_type": "execute_result"
    }
   ],
   "source": [
    "pd.crosstab(\n",
    "    [train_df.Sex, train_df.Survived],\n",
    "    [train_df.Fare_bin, train_df.Pclass],\n",
    "    margins=True\n",
    ").style.background_gradient(cmap='autumn_r')"
   ]
  },
  {
   "cell_type": "markdown",
   "metadata": {},
   "source": [
    "parch: The dataset defines family relations in this way...\n",
    "* Parent = mother, father\n",
    "* Child = daughter, son, stepdaughter, stepson\n",
    "* Some children travelled only with a nanny, therefore parch=0 for them."
   ]
  },
  {
   "cell_type": "code",
   "execution_count": null,
   "metadata": {},
   "outputs": [],
   "source": []
  },
  {
   "cell_type": "code",
   "execution_count": null,
   "metadata": {},
   "outputs": [],
   "source": []
  },
  {
   "cell_type": "code",
   "execution_count": null,
   "metadata": {},
   "outputs": [],
   "source": []
  },
  {
   "cell_type": "code",
   "execution_count": null,
   "metadata": {},
   "outputs": [],
   "source": []
  },
  {
   "cell_type": "code",
   "execution_count": null,
   "metadata": {},
   "outputs": [],
   "source": []
  },
  {
   "cell_type": "code",
   "execution_count": null,
   "metadata": {},
   "outputs": [],
   "source": []
  },
  {
   "cell_type": "code",
   "execution_count": null,
   "metadata": {},
   "outputs": [],
   "source": []
  },
  {
   "cell_type": "code",
   "execution_count": null,
   "metadata": {},
   "outputs": [],
   "source": []
  },
  {
   "cell_type": "code",
   "execution_count": null,
   "metadata": {},
   "outputs": [],
   "source": []
  },
  {
   "cell_type": "code",
   "execution_count": null,
   "metadata": {},
   "outputs": [],
   "source": []
  }
 ],
 "metadata": {
  "kernelspec": {
   "display_name": "Python 3",
   "language": "python",
   "name": "python3"
  },
  "language_info": {
   "codemirror_mode": {
    "name": "ipython",
    "version": 3
   },
   "file_extension": ".py",
   "mimetype": "text/x-python",
   "name": "python",
   "nbconvert_exporter": "python",
   "pygments_lexer": "ipython3",
   "version": "3.6.8"
  }
 },
 "nbformat": 4,
 "nbformat_minor": 2
}
